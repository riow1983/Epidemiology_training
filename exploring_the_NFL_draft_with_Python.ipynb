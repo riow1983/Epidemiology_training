{
 "cells": [
  {
   "cell_type": "code",
   "execution_count": 1,
   "metadata": {
    "collapsed": false
   },
   "outputs": [
    {
     "data": {
      "text/plain": [
       "' reference: http://savvastjortjoglou.com/nfl-draft.html '"
      ]
     },
     "execution_count": 1,
     "metadata": {},
     "output_type": "execute_result"
    }
   ],
   "source": [
    "\"\"\" reference: http://savvastjortjoglou.com/nfl-draft.html \"\"\""
   ]
  },
  {
   "cell_type": "code",
   "execution_count": 2,
   "metadata": {
    "collapsed": true
   },
   "outputs": [],
   "source": [
    "%matplotlib inline\n",
    "\n",
    "import matplotlib.pyplot as plt\n",
    "import seaborn as sns\n",
    "import pandas as pd\n",
    "\n",
    "from urllib.request import urlopen\n",
    "from bs4 import BeautifulSoup"
   ]
  },
  {
   "cell_type": "code",
   "execution_count": 89,
   "metadata": {
    "collapsed": true
   },
   "outputs": [],
   "source": [
    "from functools import reduce"
   ]
  },
  {
   "cell_type": "markdown",
   "metadata": {},
   "source": [
    "# Web Scraping"
   ]
  },
  {
   "cell_type": "code",
   "execution_count": 33,
   "metadata": {
    "collapsed": true
   },
   "outputs": [],
   "source": [
    "# The url we will be scraping\n",
    "url_1967 = \"http://www.pro-football-reference.com/years/1967/draft.htm\"\n",
    "\n",
    "# get the html\n",
    "html = urlopen(url_1967)\n",
    "\n",
    "# create the BeautifulSoup object\n",
    "soup = BeautifulSoup(html, \"lxml\")"
   ]
  },
  {
   "cell_type": "markdown",
   "metadata": {},
   "source": [
    "# Scraping the Column Headers"
   ]
  },
  {
   "cell_type": "code",
   "execution_count": 34,
   "metadata": {
    "collapsed": true
   },
   "outputs": [],
   "source": [
    "# Extract the necessary values for the column headers from the table\n",
    "# and store them as a list\n",
    "column_headers = [th.getText() for th in soup.findAll('tr', limit=2)[1].findAll('th')]\n",
    "\n",
    "# Add the two additional column headers for the player links\n",
    "column_headers.extend([\"Player_NFL_Link\", \"Player_NCAA_Link\"])"
   ]
  },
  {
   "cell_type": "code",
   "execution_count": 35,
   "metadata": {
    "collapsed": false
   },
   "outputs": [
    {
     "data": {
      "text/plain": [
       "['Rnd',\n",
       " 'Pick',\n",
       " 'Tm',\n",
       " 'Player',\n",
       " 'Pos',\n",
       " 'Age',\n",
       " 'To',\n",
       " 'AP1',\n",
       " 'PB',\n",
       " 'St',\n",
       " 'CarAV',\n",
       " 'DrAV',\n",
       " 'G',\n",
       " 'Cmp',\n",
       " 'Att',\n",
       " 'Yds',\n",
       " 'TD',\n",
       " 'Int',\n",
       " 'Att',\n",
       " 'Yds',\n",
       " 'TD',\n",
       " 'Rec',\n",
       " 'Yds',\n",
       " 'TD',\n",
       " 'Int',\n",
       " 'Sk',\n",
       " 'College/Univ',\n",
       " '',\n",
       " 'Player_NFL_Link',\n",
       " 'Player_NCAA_Link']"
      ]
     },
     "execution_count": 35,
     "metadata": {},
     "output_type": "execute_result"
    }
   ],
   "source": [
    "column_headers"
   ]
  },
  {
   "cell_type": "markdown",
   "metadata": {},
   "source": [
    "# Scraping the Data"
   ]
  },
  {
   "cell_type": "code",
   "execution_count": 36,
   "metadata": {
    "collapsed": true
   },
   "outputs": [],
   "source": [
    "# The data is found within the table rows of the element with id=draft\n",
    "# We want the elements from the 3rd row and on\n",
    "table_rows = soup.select(\"#drafts tr\")[2:]"
   ]
  },
  {
   "cell_type": "code",
   "execution_count": 38,
   "metadata": {
    "collapsed": false
   },
   "outputs": [
    {
     "data": {
      "text/plain": [
       "list"
      ]
     },
     "execution_count": 38,
     "metadata": {},
     "output_type": "execute_result"
    }
   ],
   "source": [
    "type(table_rows)"
   ]
  },
  {
   "cell_type": "code",
   "execution_count": 39,
   "metadata": {
    "collapsed": false,
    "scrolled": true
   },
   "outputs": [
    {
     "data": {
      "text/plain": [
       "<tr><th class=\"right \" data-stat=\"draft_round\" scope=\"row\">1</th><td class=\"right \" csk=\"0.5\" data-stat=\"draft_pick\">1</td><td class=\"left \" csk=\"clt01\" data-stat=\"team\"><a href=\"/teams/clt/1967_draft.htm\" title=\"Baltimore Colts\">BAL</a></td><td class=\"left \" csk=\"Smith,Bubba\" data-append-csv=\"SmitBu00\" data-stat=\"player\"><a href=\"/players/S/SmitBu00.htm\">Bubba Smith</a></td><td class=\"left \" csk=\"DE--------0001\" data-stat=\"pos\">DE</td><td class=\"right \" data-stat=\"age\">22</td><td class=\"right \" data-stat=\"year_max\">1976</td><td class=\"right \" data-stat=\"all_pros_first_team\">1</td><td class=\"right \" data-stat=\"pro_bowls\">2</td><td class=\"right \" data-stat=\"years_as_primary_starter\">6</td><td class=\"right \" data-stat=\"career_av\">63</td><td class=\"right \" data-stat=\"draft_av\">47</td><td class=\"right \" data-stat=\"g\">111</td><td class=\"right iz\" data-stat=\"pass_cmp\">0</td><td class=\"right iz\" data-stat=\"pass_att\">0</td><td class=\"right iz\" data-stat=\"pass_yds\">0</td><td class=\"right iz\" data-stat=\"pass_td\">0</td><td class=\"right iz\" data-stat=\"pass_int\">0</td><td class=\"right iz\" data-stat=\"rush_att\">0</td><td class=\"right iz\" data-stat=\"rush_yds\">0</td><td class=\"right iz\" data-stat=\"rush_td\">0</td><td class=\"right iz\" data-stat=\"rec\">0</td><td class=\"right iz\" data-stat=\"rec_yds\">0</td><td class=\"right iz\" data-stat=\"rec_td\">0</td><td class=\"right iz\" data-stat=\"def_int\"></td><td class=\"right iz\" data-stat=\"sacks\"></td><td class=\"left \" data-stat=\"college_id\"><a href=\"/schools/michiganst/\">Michigan St.</a></td><td class=\"right \" data-stat=\"college_link\"><a href=\"http://www.sports-reference.com/cfb/players/bubba-smith-2.html\">College Stats</a></td></tr>"
      ]
     },
     "execution_count": 39,
     "metadata": {},
     "output_type": "execute_result"
    }
   ],
   "source": [
    "table_rows[0]"
   ]
  },
  {
   "cell_type": "code",
   "execution_count": 57,
   "metadata": {
    "collapsed": false
   },
   "outputs": [
    {
     "data": {
      "text/plain": [
       "[<th class=\"right \" data-stat=\"draft_round\" scope=\"row\">1</th>,\n",
       " <td class=\"right \" csk=\"0.5\" data-stat=\"draft_pick\">1</td>,\n",
       " <td class=\"left \" csk=\"clt01\" data-stat=\"team\"><a href=\"/teams/clt/1967_draft.htm\" title=\"Baltimore Colts\">BAL</a></td>,\n",
       " <td class=\"left \" csk=\"Smith,Bubba\" data-append-csv=\"SmitBu00\" data-stat=\"player\"><a href=\"/players/S/SmitBu00.htm\">Bubba Smith</a></td>,\n",
       " <td class=\"left \" csk=\"DE--------0001\" data-stat=\"pos\">DE</td>,\n",
       " <td class=\"right \" data-stat=\"age\">22</td>,\n",
       " <td class=\"right \" data-stat=\"year_max\">1976</td>,\n",
       " <td class=\"right \" data-stat=\"all_pros_first_team\">1</td>,\n",
       " <td class=\"right \" data-stat=\"pro_bowls\">2</td>,\n",
       " <td class=\"right \" data-stat=\"years_as_primary_starter\">6</td>,\n",
       " <td class=\"right \" data-stat=\"career_av\">63</td>,\n",
       " <td class=\"right \" data-stat=\"draft_av\">47</td>,\n",
       " <td class=\"right \" data-stat=\"g\">111</td>,\n",
       " <td class=\"right iz\" data-stat=\"pass_cmp\">0</td>,\n",
       " <td class=\"right iz\" data-stat=\"pass_att\">0</td>,\n",
       " <td class=\"right iz\" data-stat=\"pass_yds\">0</td>,\n",
       " <td class=\"right iz\" data-stat=\"pass_td\">0</td>,\n",
       " <td class=\"right iz\" data-stat=\"pass_int\">0</td>,\n",
       " <td class=\"right iz\" data-stat=\"rush_att\">0</td>,\n",
       " <td class=\"right iz\" data-stat=\"rush_yds\">0</td>,\n",
       " <td class=\"right iz\" data-stat=\"rush_td\">0</td>,\n",
       " <td class=\"right iz\" data-stat=\"rec\">0</td>,\n",
       " <td class=\"right iz\" data-stat=\"rec_yds\">0</td>,\n",
       " <td class=\"right iz\" data-stat=\"rec_td\">0</td>,\n",
       " <td class=\"right iz\" data-stat=\"def_int\"></td>,\n",
       " <td class=\"right iz\" data-stat=\"sacks\"></td>,\n",
       " <td class=\"left \" data-stat=\"college_id\"><a href=\"/schools/michiganst/\">Michigan St.</a></td>,\n",
       " <td class=\"right \" data-stat=\"college_link\"><a href=\"http://www.sports-reference.com/cfb/players/bubba-smith-2.html\">College Stats</a></td>]"
      ]
     },
     "execution_count": 57,
     "metadata": {},
     "output_type": "execute_result"
    }
   ],
   "source": [
    "table_rows[0].find_all([\"th\", \"td\"])"
   ]
  },
  {
   "cell_type": "code",
   "execution_count": 40,
   "metadata": {
    "collapsed": false
   },
   "outputs": [
    {
     "data": {
      "text/plain": [
       "bs4.element.Tag"
      ]
     },
     "execution_count": 40,
     "metadata": {},
     "output_type": "execute_result"
    }
   ],
   "source": [
    "type(table_rows[0])"
   ]
  },
  {
   "cell_type": "code",
   "execution_count": 41,
   "metadata": {
    "collapsed": false
   },
   "outputs": [
    {
     "data": {
      "text/plain": [
       "'11BALBubba SmithDE221976126634711100000000000Michigan St.College Stats'"
      ]
     },
     "execution_count": 41,
     "metadata": {},
     "output_type": "execute_result"
    }
   ],
   "source": [
    "table_rows[0].getText()"
   ]
  },
  {
   "cell_type": "code",
   "execution_count": 42,
   "metadata": {
    "collapsed": false
   },
   "outputs": [
    {
     "data": {
      "text/plain": [
       "'11BALBubba SmithDE221976126634711100000000000Michigan St.College Stats'"
      ]
     },
     "execution_count": 42,
     "metadata": {},
     "output_type": "execute_result"
    }
   ],
   "source": [
    "table_rows[0].get_text()"
   ]
  },
  {
   "cell_type": "code",
   "execution_count": 58,
   "metadata": {
    "collapsed": true
   },
   "outputs": [],
   "source": [
    "def extract_player_data(table_rows):\n",
    "    \"\"\"\n",
    "    Extract and return the desired information from the td elements within\n",
    "    the table rows.\n",
    "    \"\"\"\n",
    "    # create the empty list to store the player data\n",
    "    player_data = []\n",
    "    \n",
    "    # for each row do the following\n",
    "    for row in table_rows:\n",
    "        # Get the text for each table data (td) element in the row\n",
    "        # Some player names end with ' HOF', if they do, get the text excluding\n",
    "        # those last 4 characters,\n",
    "        # otherwise get all the text data from the table data\n",
    "        player_list = [td.get_text()[:-4] \n",
    "                       if td.get_text().endswith(\" HOF\") \n",
    "                       else td.get_text() for td in row.find_all([\"th\", \"td\"])]\n",
    "        \n",
    "        # there are some empty table rows, which are the repeated\n",
    "        # column headers in the table\n",
    "        # we skip over those rows and continue the for loop\n",
    "        if not player_list:\n",
    "            continue\n",
    "            \n",
    "        # Extracting the player links\n",
    "        # Instead of a list we create a dictionary, this way we can easily\n",
    "        # match the player name with their pfr url\n",
    "        # For all \"a\" elements in the row, get the text\n",
    "        # NOTE: Same \" HOF\" tet issue as the player_list above\n",
    "        links_dict = {(link.get_text()[:-4]  # exclude the last 4 characters\n",
    "                       if link.get_text().endswith(\" HOF\")  # if they are \" HOF\"\n",
    "                       # else get all text, set that as the dictionary key\n",
    "                       # and set the url as the value\n",
    "                       else link.get_text()): link[\"href\"] \n",
    "                      for link in row.find_all(\"a\", href=True)}\n",
    "        \n",
    "        # The data we want from the dictionary can be extracted using the\n",
    "        # player's name, which returns us their pfr url, and \"College Stats\"\n",
    "        # which returns us their college stats page\n",
    "        \n",
    "        # add the link associated to the player's pro-football-reference page,\n",
    "        # or an empty string if there is no link\n",
    "        player_list.append(links_dict.get(player_list[3], \"\"))\n",
    "        \n",
    "        # add the link for the player's college stats or an empty string\n",
    "        # if there is no link\n",
    "        player_list.append(links_dict.get(\"College Stats\", \"\"))\n",
    "        \n",
    "        # Now append the data to list of data\n",
    "        player_data.append(player_list)\n",
    "    \n",
    "    return player_data"
   ]
  },
  {
   "cell_type": "code",
   "execution_count": 59,
   "metadata": {
    "collapsed": true
   },
   "outputs": [],
   "source": [
    "# extract the data we want\n",
    "data = extract_player_data(table_rows)\n",
    "\n",
    "# and then store it in a DataFrame\n",
    "df_1967 = pd.DataFrame(data, columns=column_headers)"
   ]
  },
  {
   "cell_type": "code",
   "execution_count": 61,
   "metadata": {
    "collapsed": false
   },
   "outputs": [
    {
     "data": {
      "text/html": [
       "<div>\n",
       "<style scoped>\n",
       "    .dataframe tbody tr th:only-of-type {\n",
       "        vertical-align: middle;\n",
       "    }\n",
       "\n",
       "    .dataframe tbody tr th {\n",
       "        vertical-align: top;\n",
       "    }\n",
       "\n",
       "    .dataframe thead th {\n",
       "        text-align: right;\n",
       "    }\n",
       "</style>\n",
       "<table border=\"1\" class=\"dataframe\">\n",
       "  <thead>\n",
       "    <tr style=\"text-align: right;\">\n",
       "      <th></th>\n",
       "      <th>Rnd</th>\n",
       "      <th>Pick</th>\n",
       "      <th>Tm</th>\n",
       "      <th>Player</th>\n",
       "      <th>Pos</th>\n",
       "      <th>Age</th>\n",
       "      <th>To</th>\n",
       "      <th>AP1</th>\n",
       "      <th>PB</th>\n",
       "      <th>St</th>\n",
       "      <th>...</th>\n",
       "      <th>TD</th>\n",
       "      <th>Rec</th>\n",
       "      <th>Yds</th>\n",
       "      <th>TD</th>\n",
       "      <th>Int</th>\n",
       "      <th>Sk</th>\n",
       "      <th>College/Univ</th>\n",
       "      <th></th>\n",
       "      <th>Player_NFL_Link</th>\n",
       "      <th>Player_NCAA_Link</th>\n",
       "    </tr>\n",
       "  </thead>\n",
       "  <tbody>\n",
       "    <tr>\n",
       "      <th>0</th>\n",
       "      <td>1</td>\n",
       "      <td>1</td>\n",
       "      <td>BAL</td>\n",
       "      <td>Bubba Smith</td>\n",
       "      <td>DE</td>\n",
       "      <td>22</td>\n",
       "      <td>1976</td>\n",
       "      <td>1</td>\n",
       "      <td>2</td>\n",
       "      <td>6</td>\n",
       "      <td>...</td>\n",
       "      <td>0</td>\n",
       "      <td>0</td>\n",
       "      <td>0</td>\n",
       "      <td>0</td>\n",
       "      <td></td>\n",
       "      <td></td>\n",
       "      <td>Michigan St.</td>\n",
       "      <td>College Stats</td>\n",
       "      <td>/players/S/SmitBu00.htm</td>\n",
       "      <td>http://www.sports-reference.com/cfb/players/bu...</td>\n",
       "    </tr>\n",
       "    <tr>\n",
       "      <th>1</th>\n",
       "      <td>1</td>\n",
       "      <td>2</td>\n",
       "      <td>MIN</td>\n",
       "      <td>Clint Jones</td>\n",
       "      <td>RB</td>\n",
       "      <td>22</td>\n",
       "      <td>1973</td>\n",
       "      <td>0</td>\n",
       "      <td>0</td>\n",
       "      <td>2</td>\n",
       "      <td>...</td>\n",
       "      <td>20</td>\n",
       "      <td>38</td>\n",
       "      <td>431</td>\n",
       "      <td>0</td>\n",
       "      <td></td>\n",
       "      <td></td>\n",
       "      <td>Michigan St.</td>\n",
       "      <td>College Stats</td>\n",
       "      <td>/players/J/JoneCl00.htm</td>\n",
       "      <td>http://www.sports-reference.com/cfb/players/cl...</td>\n",
       "    </tr>\n",
       "    <tr>\n",
       "      <th>2</th>\n",
       "      <td>1</td>\n",
       "      <td>3</td>\n",
       "      <td>SFO</td>\n",
       "      <td>Steve Spurrier</td>\n",
       "      <td>QB</td>\n",
       "      <td>22</td>\n",
       "      <td>1976</td>\n",
       "      <td>0</td>\n",
       "      <td>0</td>\n",
       "      <td>6</td>\n",
       "      <td>...</td>\n",
       "      <td>2</td>\n",
       "      <td>0</td>\n",
       "      <td>0</td>\n",
       "      <td>0</td>\n",
       "      <td></td>\n",
       "      <td></td>\n",
       "      <td>Florida</td>\n",
       "      <td>College Stats</td>\n",
       "      <td>/players/S/SpurSt00.htm</td>\n",
       "      <td>http://www.sports-reference.com/cfb/players/st...</td>\n",
       "    </tr>\n",
       "    <tr>\n",
       "      <th>3</th>\n",
       "      <td>1</td>\n",
       "      <td>4</td>\n",
       "      <td>MIA</td>\n",
       "      <td>Bob Griese</td>\n",
       "      <td>QB</td>\n",
       "      <td>22</td>\n",
       "      <td>1980</td>\n",
       "      <td>2</td>\n",
       "      <td>8</td>\n",
       "      <td>12</td>\n",
       "      <td>...</td>\n",
       "      <td>7</td>\n",
       "      <td>0</td>\n",
       "      <td>0</td>\n",
       "      <td>0</td>\n",
       "      <td></td>\n",
       "      <td></td>\n",
       "      <td>Purdue</td>\n",
       "      <td>College Stats</td>\n",
       "      <td>/players/G/GrieBo00.htm</td>\n",
       "      <td>http://www.sports-reference.com/cfb/players/bo...</td>\n",
       "    </tr>\n",
       "    <tr>\n",
       "      <th>4</th>\n",
       "      <td>1</td>\n",
       "      <td>5</td>\n",
       "      <td>HOU</td>\n",
       "      <td>George Webster</td>\n",
       "      <td>LB</td>\n",
       "      <td>21</td>\n",
       "      <td>1976</td>\n",
       "      <td>3</td>\n",
       "      <td>3</td>\n",
       "      <td>6</td>\n",
       "      <td>...</td>\n",
       "      <td>0</td>\n",
       "      <td>0</td>\n",
       "      <td>0</td>\n",
       "      <td>0</td>\n",
       "      <td>5</td>\n",
       "      <td></td>\n",
       "      <td>Michigan St.</td>\n",
       "      <td>College Stats</td>\n",
       "      <td>/players/W/WebsGe00.htm</td>\n",
       "      <td>http://www.sports-reference.com/cfb/players/ge...</td>\n",
       "    </tr>\n",
       "  </tbody>\n",
       "</table>\n",
       "<p>5 rows × 30 columns</p>\n",
       "</div>"
      ],
      "text/plain": [
       "  Rnd Pick   Tm          Player Pos Age    To AP1 PB  St  \\\n",
       "0   1    1  BAL     Bubba Smith  DE  22  1976   1  2   6   \n",
       "1   1    2  MIN     Clint Jones  RB  22  1973   0  0   2   \n",
       "2   1    3  SFO  Steve Spurrier  QB  22  1976   0  0   6   \n",
       "3   1    4  MIA      Bob Griese  QB  22  1980   2  8  12   \n",
       "4   1    5  HOU  George Webster  LB  21  1976   3  3   6   \n",
       "\n",
       "                         ...                          TD Rec  Yds TD Int Sk  \\\n",
       "0                        ...                           0   0    0  0          \n",
       "1                        ...                          20  38  431  0          \n",
       "2                        ...                           2   0    0  0          \n",
       "3                        ...                           7   0    0  0          \n",
       "4                        ...                           0   0    0  0   5      \n",
       "\n",
       "   College/Univ                         Player_NFL_Link  \\\n",
       "0  Michigan St.  College Stats  /players/S/SmitBu00.htm   \n",
       "1  Michigan St.  College Stats  /players/J/JoneCl00.htm   \n",
       "2       Florida  College Stats  /players/S/SpurSt00.htm   \n",
       "3        Purdue  College Stats  /players/G/GrieBo00.htm   \n",
       "4  Michigan St.  College Stats  /players/W/WebsGe00.htm   \n",
       "\n",
       "                                    Player_NCAA_Link  \n",
       "0  http://www.sports-reference.com/cfb/players/bu...  \n",
       "1  http://www.sports-reference.com/cfb/players/cl...  \n",
       "2  http://www.sports-reference.com/cfb/players/st...  \n",
       "3  http://www.sports-reference.com/cfb/players/bo...  \n",
       "4  http://www.sports-reference.com/cfb/players/ge...  \n",
       "\n",
       "[5 rows x 30 columns]"
      ]
     },
     "execution_count": 61,
     "metadata": {},
     "output_type": "execute_result"
    }
   ],
   "source": [
    "df_1967.head()"
   ]
  },
  {
   "cell_type": "markdown",
   "metadata": {},
   "source": [
    "# Scraping the Data for All Seasons Since 1967"
   ]
  },
  {
   "cell_type": "code",
   "execution_count": 132,
   "metadata": {
    "collapsed": true
   },
   "outputs": [],
   "source": [
    "# Create an empty list that will contain all the dataframes\n",
    "# (one dataframe for each draft)\n",
    "draft_dfs_list = []\n",
    "\n",
    "# a list to store any errors that may come up while scraping\n",
    "errors_list = []"
   ]
  },
  {
   "cell_type": "code",
   "execution_count": 133,
   "metadata": {
    "collapsed": true
   },
   "outputs": [],
   "source": [
    "# The url template that we pass in the draft year inro\n",
    "url_template = \"http://www.pro-football-reference.com/years/{year}/draft.htm\"\n",
    "\n",
    "# for each year from 1967 to (and including) 2016\n",
    "for year in range(1967, 2017):\n",
    "    \n",
    "    # use try/except block to catch and inspect any urls that cause an error\n",
    "    try:\n",
    "        # get the draft url\n",
    "        url = url_template.format(year=year)\n",
    "        \n",
    "        # get the html\n",
    "        html = urlopen(url)\n",
    "        \n",
    "        # create the BeautifulSoup object\n",
    "        soup = BeautifulSoup(html, \"lxml\")\n",
    "        \n",
    "        # get the column headers\n",
    "        column_headers = [th.getText() for th in\n",
    "                          soup.findAll('tr', limit=2)[1].findAll('th')]\n",
    "        column_headers.extend([\"Player_NFL_Link\", \"Player_NCAA_Link\"])\n",
    "        \n",
    "        # select the data from the table using the '#drafts tr' CSS selector\n",
    "        table_rows = soup.select(\"#drafts tr\")[2:]\n",
    "        \n",
    "        # extract the player data from the table rows\n",
    "        player_data = extract_player_data(table_rows)\n",
    "        \n",
    "        # create the dataframe for the current years draft\n",
    "        year_df = pd.DataFrame(player_data, columns=column_headers)\n",
    "        \n",
    "        # if it is a draft from before 1994 then add a Tkl column at the\n",
    "        # 24th position\n",
    "        if year < 1994:\n",
    "            year_df.insert(24, \"Solo\", \"\")\n",
    "            \n",
    "        # add the year of the draft to the dataframe\n",
    "        year_df.insert(0, \"Draft_Yr\", year)\n",
    "        \n",
    "        # append the current dataframe to the list of dataframes\n",
    "        draft_dfs_list.append(year_df)\n",
    "        \n",
    "    except Exception as e:\n",
    "        # Store the url and the error it causes in a list\n",
    "        error = [url, e]\n",
    "        # then append it to the list of errors\n",
    "        errors_list.append(error)"
   ]
  },
  {
   "cell_type": "code",
   "execution_count": 134,
   "metadata": {
    "collapsed": false
   },
   "outputs": [
    {
     "data": {
      "text/plain": [
       "0"
      ]
     },
     "execution_count": 134,
     "metadata": {},
     "output_type": "execute_result"
    }
   ],
   "source": [
    "len(errors_list)"
   ]
  },
  {
   "cell_type": "code",
   "execution_count": 135,
   "metadata": {
    "collapsed": false
   },
   "outputs": [
    {
     "data": {
      "text/plain": [
       "[]"
      ]
     },
     "execution_count": 135,
     "metadata": {},
     "output_type": "execute_result"
    }
   ],
   "source": [
    "errors_list"
   ]
  },
  {
   "cell_type": "code",
   "execution_count": 136,
   "metadata": {
    "collapsed": true
   },
   "outputs": [],
   "source": [
    "for df in draft_dfs_list:\n",
    "    if df.shape[1] != 32:\n",
    "        print(df.shape)"
   ]
  },
  {
   "cell_type": "code",
   "execution_count": 137,
   "metadata": {
    "collapsed": false
   },
   "outputs": [
    {
     "data": {
      "text/plain": [
       "50"
      ]
     },
     "execution_count": 137,
     "metadata": {},
     "output_type": "execute_result"
    }
   ],
   "source": [
    "len(draft_dfs_list)"
   ]
  },
  {
   "cell_type": "code",
   "execution_count": 138,
   "metadata": {
    "collapsed": false
   },
   "outputs": [
    {
     "data": {
      "text/plain": [
       "Index(['Draft_Yr', 'Rnd', 'Pick', 'Tm', 'Player', 'Pos', 'Age', 'To', 'AP1',\n",
       "       'PB', 'St', 'CarAV', 'DrAV', 'G', 'Cmp', 'Att', 'Yds', 'TD', 'Int',\n",
       "       'Att', 'Yds', 'TD', 'Rec', 'Yds', 'TD', 'Solo', 'Int', 'Sk',\n",
       "       'College/Univ', '', 'Player_NFL_Link', 'Player_NCAA_Link'],\n",
       "      dtype='object')"
      ]
     },
     "execution_count": 138,
     "metadata": {},
     "output_type": "execute_result"
    }
   ],
   "source": [
    "draft_dfs_list[0].columns"
   ]
  },
  {
   "cell_type": "code",
   "execution_count": 139,
   "metadata": {
    "collapsed": false
   },
   "outputs": [
    {
     "data": {
      "text/plain": [
       "Index(['Draft_Yr', 'Rnd', 'Pick', 'Tm', 'Player', 'Pos', 'Age', 'To', 'AP1',\n",
       "       'PB', 'St', 'CarAV', 'DrAV', 'G', 'Cmp', 'Att', 'Yds', 'TD', 'Int',\n",
       "       'Att', 'Yds', 'TD', 'Rec', 'Yds', 'TD', 'Solo', 'Int', 'Sk',\n",
       "       'College/Univ', '', 'Player_NFL_Link', 'Player_NCAA_Link'],\n",
       "      dtype='object')"
      ]
     },
     "execution_count": 139,
     "metadata": {},
     "output_type": "execute_result"
    }
   ],
   "source": [
    "draft_dfs_list[1].columns"
   ]
  },
  {
   "cell_type": "code",
   "execution_count": 140,
   "metadata": {
    "collapsed": false
   },
   "outputs": [
    {
     "data": {
      "text/plain": [
       "Index(['Draft_Yr', 'Rnd', 'Pick', 'Tm', 'Player', 'Pos', 'Age', 'To', 'AP1',\n",
       "       'PB', 'St', 'CarAV', 'DrAV', 'G', 'Cmp', 'Att', 'Yds', 'TD', 'Int',\n",
       "       'Att', 'Yds', 'TD', 'Rec', 'Yds', 'TD', 'Solo', 'Int', 'Sk',\n",
       "       'College/Univ', '', 'Player_NFL_Link', 'Player_NCAA_Link'],\n",
       "      dtype='object')"
      ]
     },
     "execution_count": 140,
     "metadata": {},
     "output_type": "execute_result"
    }
   ],
   "source": [
    "draft_dfs_list[26].columns"
   ]
  },
  {
   "cell_type": "code",
   "execution_count": 141,
   "metadata": {
    "collapsed": false
   },
   "outputs": [
    {
     "data": {
      "text/plain": [
       "Index(['Draft_Yr', 'Rnd', 'Pick', 'Tm', 'Player', 'Pos', 'Age', 'To', 'AP1',\n",
       "       'PB', 'St', 'CarAV', 'DrAV', 'G', 'Cmp', 'Att', 'Yds', 'TD', 'Int',\n",
       "       'Att', 'Yds', 'TD', 'Rec', 'Yds', 'TD', 'Solo', 'Int', 'Sk',\n",
       "       'College/Univ', '', 'Player_NFL_Link', 'Player_NCAA_Link'],\n",
       "      dtype='object')"
      ]
     },
     "execution_count": 141,
     "metadata": {},
     "output_type": "execute_result"
    }
   ],
   "source": [
    "draft_dfs_list[27].columns"
   ]
  },
  {
   "cell_type": "code",
   "execution_count": 142,
   "metadata": {
    "collapsed": false
   },
   "outputs": [
    {
     "data": {
      "text/plain": [
       "Index(['Draft_Yr', 'Rnd', 'Pick', 'Tm', 'Player', 'Pos', 'Age', 'To', 'AP1',\n",
       "       'PB', 'St', 'CarAV', 'DrAV', 'G', 'Cmp', 'Att', 'Yds', 'TD', 'Int',\n",
       "       'Att', 'Yds', 'TD', 'Rec', 'Yds', 'TD', 'Solo', 'Int', 'Sk',\n",
       "       'College/Univ', '', 'Player_NFL_Link', 'Player_NCAA_Link'],\n",
       "      dtype='object')"
      ]
     },
     "execution_count": 142,
     "metadata": {},
     "output_type": "execute_result"
    }
   ],
   "source": [
    "draft_dfs_list[28].columns"
   ]
  },
  {
   "cell_type": "code",
   "execution_count": 143,
   "metadata": {
    "collapsed": true
   },
   "outputs": [],
   "source": [
    "# store all drafts in one DataFrame\n",
    "draft_df = pd.concat(draft_dfs_list[26:28], ignore_index=True)\n",
    "#reduce(lambda x,y: pd.concat([x,y], ignore_index=True), draft_dfs_list)"
   ]
  },
  {
   "cell_type": "code",
   "execution_count": 144,
   "metadata": {
    "collapsed": false
   },
   "outputs": [
    {
     "data": {
      "text/html": [
       "<div>\n",
       "<style scoped>\n",
       "    .dataframe tbody tr th:only-of-type {\n",
       "        vertical-align: middle;\n",
       "    }\n",
       "\n",
       "    .dataframe tbody tr th {\n",
       "        vertical-align: top;\n",
       "    }\n",
       "\n",
       "    .dataframe thead th {\n",
       "        text-align: right;\n",
       "    }\n",
       "</style>\n",
       "<table border=\"1\" class=\"dataframe\">\n",
       "  <thead>\n",
       "    <tr style=\"text-align: right;\">\n",
       "      <th></th>\n",
       "      <th>Draft_Yr</th>\n",
       "      <th>Rnd</th>\n",
       "      <th>Pick</th>\n",
       "      <th>Tm</th>\n",
       "      <th>Player</th>\n",
       "      <th>Pos</th>\n",
       "      <th>Age</th>\n",
       "      <th>To</th>\n",
       "      <th>AP1</th>\n",
       "      <th>PB</th>\n",
       "      <th>...</th>\n",
       "      <th>Rec</th>\n",
       "      <th>Yds</th>\n",
       "      <th>TD</th>\n",
       "      <th>Solo</th>\n",
       "      <th>Int</th>\n",
       "      <th>Sk</th>\n",
       "      <th>College/Univ</th>\n",
       "      <th></th>\n",
       "      <th>Player_NFL_Link</th>\n",
       "      <th>Player_NCAA_Link</th>\n",
       "    </tr>\n",
       "  </thead>\n",
       "  <tbody>\n",
       "    <tr>\n",
       "      <th>0</th>\n",
       "      <td>1993</td>\n",
       "      <td>1</td>\n",
       "      <td>1</td>\n",
       "      <td>NWE</td>\n",
       "      <td>Drew Bledsoe</td>\n",
       "      <td>QB</td>\n",
       "      <td>21</td>\n",
       "      <td>2006</td>\n",
       "      <td>0</td>\n",
       "      <td>4</td>\n",
       "      <td>...</td>\n",
       "      <td>1</td>\n",
       "      <td>-9</td>\n",
       "      <td>0</td>\n",
       "      <td></td>\n",
       "      <td></td>\n",
       "      <td></td>\n",
       "      <td>Washington St.</td>\n",
       "      <td>College Stats</td>\n",
       "      <td>/players/B/BledDr00.htm</td>\n",
       "      <td>http://www.sports-reference.com/cfb/players/dr...</td>\n",
       "    </tr>\n",
       "    <tr>\n",
       "      <th>1</th>\n",
       "      <td>1993</td>\n",
       "      <td>1</td>\n",
       "      <td>2</td>\n",
       "      <td>SEA</td>\n",
       "      <td>Rick Mirer</td>\n",
       "      <td>QB</td>\n",
       "      <td>23</td>\n",
       "      <td>2003</td>\n",
       "      <td>0</td>\n",
       "      <td>0</td>\n",
       "      <td>...</td>\n",
       "      <td>0</td>\n",
       "      <td>0</td>\n",
       "      <td>0</td>\n",
       "      <td></td>\n",
       "      <td></td>\n",
       "      <td></td>\n",
       "      <td>Notre Dame</td>\n",
       "      <td>College Stats</td>\n",
       "      <td>/players/M/MireRi00.htm</td>\n",
       "      <td>http://www.sports-reference.com/cfb/players/ri...</td>\n",
       "    </tr>\n",
       "    <tr>\n",
       "      <th>2</th>\n",
       "      <td>1993</td>\n",
       "      <td>1</td>\n",
       "      <td>3</td>\n",
       "      <td>PHO</td>\n",
       "      <td>Garrison Hearst</td>\n",
       "      <td>RB</td>\n",
       "      <td>22</td>\n",
       "      <td>2004</td>\n",
       "      <td>0</td>\n",
       "      <td>2</td>\n",
       "      <td>...</td>\n",
       "      <td>229</td>\n",
       "      <td>2065</td>\n",
       "      <td>9</td>\n",
       "      <td></td>\n",
       "      <td></td>\n",
       "      <td></td>\n",
       "      <td>Georgia</td>\n",
       "      <td>College Stats</td>\n",
       "      <td>/players/H/HearGa00.htm</td>\n",
       "      <td>http://www.sports-reference.com/cfb/players/ga...</td>\n",
       "    </tr>\n",
       "    <tr>\n",
       "      <th>3</th>\n",
       "      <td>1993</td>\n",
       "      <td>1</td>\n",
       "      <td>4</td>\n",
       "      <td>NYJ</td>\n",
       "      <td>Marvin Jones</td>\n",
       "      <td>LB</td>\n",
       "      <td>21</td>\n",
       "      <td>2003</td>\n",
       "      <td>0</td>\n",
       "      <td>0</td>\n",
       "      <td>...</td>\n",
       "      <td>0</td>\n",
       "      <td>0</td>\n",
       "      <td>0</td>\n",
       "      <td></td>\n",
       "      <td>5</td>\n",
       "      <td>9.0</td>\n",
       "      <td>Florida St.</td>\n",
       "      <td>College Stats</td>\n",
       "      <td>/players/J/JoneMa23.htm</td>\n",
       "      <td>http://www.sports-reference.com/cfb/players/ma...</td>\n",
       "    </tr>\n",
       "    <tr>\n",
       "      <th>4</th>\n",
       "      <td>1993</td>\n",
       "      <td>1</td>\n",
       "      <td>5</td>\n",
       "      <td>CIN</td>\n",
       "      <td>John Copeland</td>\n",
       "      <td>DE</td>\n",
       "      <td>22</td>\n",
       "      <td>2000</td>\n",
       "      <td>0</td>\n",
       "      <td>0</td>\n",
       "      <td>...</td>\n",
       "      <td>0</td>\n",
       "      <td>0</td>\n",
       "      <td>0</td>\n",
       "      <td></td>\n",
       "      <td>3</td>\n",
       "      <td>24.0</td>\n",
       "      <td>Alabama</td>\n",
       "      <td>College Stats</td>\n",
       "      <td>/players/C/CopeJo20.htm</td>\n",
       "      <td>http://www.sports-reference.com/cfb/players/jo...</td>\n",
       "    </tr>\n",
       "  </tbody>\n",
       "</table>\n",
       "<p>5 rows × 32 columns</p>\n",
       "</div>"
      ],
      "text/plain": [
       "   Draft_Yr Rnd Pick   Tm           Player Pos Age    To AP1 PB  \\\n",
       "0      1993   1    1  NWE     Drew Bledsoe  QB  21  2006   0  4   \n",
       "1      1993   1    2  SEA       Rick Mirer  QB  23  2003   0  0   \n",
       "2      1993   1    3  PHO  Garrison Hearst  RB  22  2004   0  2   \n",
       "3      1993   1    4  NYJ     Marvin Jones  LB  21  2003   0  0   \n",
       "4      1993   1    5  CIN    John Copeland  DE  22  2000   0  0   \n",
       "\n",
       "                         ...                          Rec   Yds TD Solo Int  \\\n",
       "0                        ...                            1    -9  0            \n",
       "1                        ...                            0     0  0            \n",
       "2                        ...                          229  2065  9            \n",
       "3                        ...                            0     0  0        5   \n",
       "4                        ...                            0     0  0        3   \n",
       "\n",
       "     Sk    College/Univ                         Player_NFL_Link  \\\n",
       "0        Washington St.  College Stats  /players/B/BledDr00.htm   \n",
       "1            Notre Dame  College Stats  /players/M/MireRi00.htm   \n",
       "2               Georgia  College Stats  /players/H/HearGa00.htm   \n",
       "3   9.0     Florida St.  College Stats  /players/J/JoneMa23.htm   \n",
       "4  24.0         Alabama  College Stats  /players/C/CopeJo20.htm   \n",
       "\n",
       "                                    Player_NCAA_Link  \n",
       "0  http://www.sports-reference.com/cfb/players/dr...  \n",
       "1  http://www.sports-reference.com/cfb/players/ri...  \n",
       "2  http://www.sports-reference.com/cfb/players/ga...  \n",
       "3  http://www.sports-reference.com/cfb/players/ma...  \n",
       "4  http://www.sports-reference.com/cfb/players/jo...  \n",
       "\n",
       "[5 rows x 32 columns]"
      ]
     },
     "execution_count": 144,
     "metadata": {},
     "output_type": "execute_result"
    }
   ],
   "source": [
    "draft_df.head()"
   ]
  },
  {
   "cell_type": "code",
   "execution_count": 145,
   "metadata": {
    "collapsed": false
   },
   "outputs": [
    {
     "data": {
      "text/plain": [
       "['Draft_Yr',\n",
       " 'Rnd',\n",
       " 'Pick',\n",
       " 'Tm',\n",
       " 'Player',\n",
       " 'Pos',\n",
       " 'Age',\n",
       " 'To',\n",
       " 'AP1',\n",
       " 'PB',\n",
       " 'St',\n",
       " 'CarAV',\n",
       " 'DrAV',\n",
       " 'G',\n",
       " 'Cmp',\n",
       " 'Att',\n",
       " 'Yds',\n",
       " 'TD',\n",
       " 'Int',\n",
       " 'Rush_Att',\n",
       " 'Rush_Yds',\n",
       " 'Rush_TD',\n",
       " 'Rec',\n",
       " 'Rec_Yds',\n",
       " 'Rec_TD',\n",
       " 'Solo',\n",
       " 'Def_Int',\n",
       " 'Sk',\n",
       " 'College',\n",
       " '',\n",
       " 'Player_NFL_Link',\n",
       " 'Player_NCAA_Link']"
      ]
     },
     "execution_count": 145,
     "metadata": {},
     "output_type": "execute_result"
    }
   ],
   "source": [
    "# get the current column headers from the dataframe as a list\n",
    "column_headers = draft_df.columns.tolist()\n",
    "\n",
    "# The 5th column header is an empty string, but represents player names\n",
    "column_headers[4] = \"Player\"\n",
    "\n",
    "# Prepend \"Rush_\" for the columns that represent rushing stats\n",
    "column_headers[19:22] = [\"Rush_\" + col for col in column_headers[19:22]]\n",
    "\n",
    "# Prepend \"Rec_\" for the columns that represent receiving stats\n",
    "column_headers[23:25] = [\"Rec_\" + col for col in column_headers[23:25]]\n",
    "\n",
    "# Properly label the defensive int column as \"Def_Int\"\n",
    "column_headers[-6] = \"Def_Int\"\n",
    "\n",
    "# Just use \"College\" as the column header represent player's colleger or univ\n",
    "column_headers[-4] = \"College\"\n",
    "\n",
    "# Take a look at the updated column headers\n",
    "column_headers"
   ]
  },
  {
   "cell_type": "code",
   "execution_count": 146,
   "metadata": {
    "collapsed": true
   },
   "outputs": [],
   "source": [
    "# Now assign edited columns to the DataFrame\n",
    "draft_df.columns = column_headers"
   ]
  },
  {
   "cell_type": "code",
   "execution_count": 147,
   "metadata": {
    "collapsed": true
   },
   "outputs": [],
   "source": [
    "# Write out the raw draft data to the raw_data fold in the data folder\n",
    "draft_df.to_csv(\"data/raw_data/pfr_nfl_draft_data_RAW.csv\", index=False)"
   ]
  },
  {
   "cell_type": "markdown",
   "metadata": {},
   "source": [
    "# Cleaning the Data"
   ]
  },
  {
   "cell_type": "code",
   "execution_count": 150,
   "metadata": {
    "collapsed": false
   },
   "outputs": [
    {
     "data": {
      "text/plain": [
       "0      /players/B/BledDr00.htm\n",
       "1      /players/M/MireRi00.htm\n",
       "2      /players/H/HearGa00.htm\n",
       "3      /players/J/JoneMa23.htm\n",
       "4      /players/C/CopeJo20.htm\n",
       "5      /players/C/CurrEr20.htm\n",
       "6      /players/C/ConwCu00.htm\n",
       "7      /players/R/RoafWi00.htm\n",
       "8      /players/K/KennLi00.htm\n",
       "9      /players/B/BettJe00.htm\n",
       "10     /players/W/WillDa20.htm\n",
       "11     /players/B/BatePa20.htm\n",
       "12     /players/H/HopkBr00.htm\n",
       "13     /players/E/EverSt20.htm\n",
       "14     /players/S/SimmWa20.htm\n",
       "15     /players/D/DawkSe00.htm\n",
       "16     /players/C/CartTo20.htm\n",
       "17     /players/D/DyexEr20.htm\n",
       "18     /players/H/HolmLe20.htm\n",
       "19     /players/S/SmitIr00.htm\n",
       "20     /players/S/SmitRo00.htm\n",
       "21     /players/G/GordDa20.htm\n",
       "22     /players/F/FiguDe20.htm\n",
       "23     /players/R/RenfLe20.htm\n",
       "24     /players/M/McDuO.00.htm\n",
       "25     /players/S/StubDa00.htm\n",
       "26     /players/K/KellTo20.htm\n",
       "27     /players/S/SmitTh21.htm\n",
       "28     /players/T/TeagGe20.htm\n",
       "29                            \n",
       "                ...           \n",
       "429    /players/W/WortBa20.htm\n",
       "430                           \n",
       "431    /players/S/StalRa20.htm\n",
       "432    /players/T/TeicLa20.htm\n",
       "433    /players/F/FrerGu00.htm\n",
       "434    /players/W/WalkJa22.htm\n",
       "435    /players/M/MattSt00.htm\n",
       "436    /players/P/PyneJi20.htm\n",
       "437    /players/A/AndeJa00.htm\n",
       "438    /players/C/CrumCa00.htm\n",
       "439                           \n",
       "440    /players/H/HarvFr20.htm\n",
       "441                           \n",
       "442                           \n",
       "443                           \n",
       "444    /players/F/FoleGl00.htm\n",
       "445                           \n",
       "446    /players/B/BurnKe21.htm\n",
       "447    /players/B/BercPe20.htm\n",
       "448    /players/B/BynoBu20.htm\n",
       "449                           \n",
       "450    /players/H/HillSe20.htm\n",
       "451    /players/B/BeerTo20.htm\n",
       "452    /players/M/McInTo20.htm\n",
       "453    /players/H/HolmRo20.htm\n",
       "454    /players/N/NaleTo00.htm\n",
       "455    /players/G/GreeTr01.htm\n",
       "456    /players/H/HallLe20.htm\n",
       "457    /players/J/JohnFi20.htm\n",
       "458    /players/M/MoorMa23.htm\n",
       "Name: Player_NFL_Link, Length: 459, dtype: object"
      ]
     },
     "execution_count": 150,
     "metadata": {},
     "output_type": "execute_result"
    }
   ],
   "source": [
    "draft_df.Player_NFL_Link"
   ]
  },
  {
   "cell_type": "code",
   "execution_count": 151,
   "metadata": {
    "collapsed": true
   },
   "outputs": [],
   "source": [
    "# extract the player id from the player links\n",
    "# expand-False returns the IDs as a pandas Series\n",
    "player_ids = draft_df.Player_NFL_Link.str.extract(\"/.*/.*/(.*)\\.\", expand=False)"
   ]
  },
  {
   "cell_type": "code",
   "execution_count": 152,
   "metadata": {
    "collapsed": true
   },
   "outputs": [],
   "source": [
    "# add a Player_ID column to our draft_df\n",
    "draft_df[\"Player_ID\"] = player_ids"
   ]
  },
  {
   "cell_type": "code",
   "execution_count": 153,
   "metadata": {
    "collapsed": true
   },
   "outputs": [],
   "source": [
    "# add the beginning of the pfr url to the player link column\n",
    "pfr_url = \"http://www.pro-football-reference.com\"\n",
    "draft_df.Player_NFL_Link = pfr_url + draft_df.Player_NFL_Link"
   ]
  },
  {
   "cell_type": "code",
   "execution_count": 154,
   "metadata": {
    "collapsed": true
   },
   "outputs": [],
   "source": [
    "# Get the Player name, IDs, and links\n",
    "player_id_df = draft_df.loc[:, [\"Player\", \"Player_ID\", \"Player_NFL_Link\",\n",
    "                                \"Player_NCAA_Link\"]]\n",
    "\n",
    "# Save them to a CSV file\n",
    "player_id_df.to_csv(\"data/clean_data/pfr_player_ids_and_links.csv\", index=False)"
   ]
  },
  {
   "cell_type": "markdown",
   "metadata": {},
   "source": [
    "# Cleaning Up the Rest of the Draft Data"
   ]
  },
  {
   "cell_type": "code",
   "execution_count": 155,
   "metadata": {
    "collapsed": true
   },
   "outputs": [],
   "source": [
    "# drop the player links and the column labeled by an empty string\n",
    "draft_df.drop(draft_df.columns[-4:-1], axis=1, inplace=True)"
   ]
  },
  {
   "cell_type": "code",
   "execution_count": 156,
   "metadata": {
    "collapsed": false
   },
   "outputs": [
    {
     "name": "stdout",
     "output_type": "stream",
     "text": [
      "<class 'pandas.core.frame.DataFrame'>\n",
      "RangeIndex: 459 entries, 0 to 458\n",
      "Data columns (total 30 columns):\n",
      "Draft_Yr     459 non-null int64\n",
      "Rnd          459 non-null object\n",
      "Pick         459 non-null object\n",
      "Tm           459 non-null object\n",
      "Player       459 non-null object\n",
      "Pos          459 non-null object\n",
      "Age          459 non-null object\n",
      "To           459 non-null object\n",
      "AP1          459 non-null object\n",
      "PB           459 non-null object\n",
      "St           459 non-null object\n",
      "CarAV        459 non-null object\n",
      "DrAV         459 non-null object\n",
      "G            459 non-null object\n",
      "Cmp          459 non-null object\n",
      "Att          459 non-null object\n",
      "Yds          459 non-null object\n",
      "TD           459 non-null object\n",
      "Int          459 non-null object\n",
      "Rush_Att     459 non-null object\n",
      "Rush_Yds     459 non-null object\n",
      "Rush_TD      459 non-null object\n",
      "Rec          459 non-null object\n",
      "Rec_Yds      459 non-null object\n",
      "Rec_TD       459 non-null object\n",
      "Solo         459 non-null object\n",
      "Def_Int      459 non-null object\n",
      "Sk           459 non-null object\n",
      "College      459 non-null object\n",
      "Player_ID    400 non-null object\n",
      "dtypes: int64(1), object(29)\n",
      "memory usage: 107.7+ KB\n"
     ]
    }
   ],
   "source": [
    "draft_df.info()"
   ]
  },
  {
   "cell_type": "code",
   "execution_count": 157,
   "metadata": {
    "collapsed": true
   },
   "outputs": [],
   "source": [
    "# convert the data to proper numeric types\n",
    "draft_df = draft_df.apply(pd.to_numeric, errors='ignore')"
   ]
  },
  {
   "cell_type": "code",
   "execution_count": 158,
   "metadata": {
    "collapsed": false
   },
   "outputs": [
    {
     "name": "stdout",
     "output_type": "stream",
     "text": [
      "<class 'pandas.core.frame.DataFrame'>\n",
      "RangeIndex: 459 entries, 0 to 458\n",
      "Data columns (total 30 columns):\n",
      "Draft_Yr     459 non-null int64\n",
      "Rnd          459 non-null object\n",
      "Pick         459 non-null object\n",
      "Tm           459 non-null object\n",
      "Player       459 non-null object\n",
      "Pos          459 non-null object\n",
      "Age          459 non-null object\n",
      "To           459 non-null object\n",
      "AP1          459 non-null object\n",
      "PB           459 non-null object\n",
      "St           459 non-null object\n",
      "CarAV        459 non-null object\n",
      "DrAV         459 non-null object\n",
      "G            459 non-null object\n",
      "Cmp          459 non-null object\n",
      "Att          459 non-null object\n",
      "Yds          459 non-null object\n",
      "TD           459 non-null object\n",
      "Int          459 non-null object\n",
      "Rush_Att     459 non-null object\n",
      "Rush_Yds     459 non-null object\n",
      "Rush_TD      459 non-null object\n",
      "Rec          459 non-null object\n",
      "Rec_Yds      459 non-null object\n",
      "Rec_TD       459 non-null object\n",
      "Solo         459 non-null object\n",
      "Def_Int      459 non-null object\n",
      "Sk           459 non-null object\n",
      "College      459 non-null object\n",
      "Player_ID    400 non-null object\n",
      "dtypes: int64(1), object(29)\n",
      "memory usage: 107.7+ KB\n"
     ]
    }
   ],
   "source": [
    "draft_df.info()"
   ]
  },
  {
   "cell_type": "code",
   "execution_count": 159,
   "metadata": {
    "collapsed": true
   },
   "outputs": [],
   "source": [
    "# Get the column names for the numeric columns\n",
    "num_cols = draft_df.columns[draft_df.dtypes != object]\n",
    "\n",
    "# Replace all NaNs with 0\n",
    "draft_df.loc[:, num_cols] = draft_df.loc[:, num_cols].fillna(0)"
   ]
  },
  {
   "cell_type": "code",
   "execution_count": 160,
   "metadata": {
    "collapsed": false
   },
   "outputs": [
    {
     "name": "stdout",
     "output_type": "stream",
     "text": [
      "<class 'pandas.core.frame.DataFrame'>\n",
      "RangeIndex: 459 entries, 0 to 458\n",
      "Data columns (total 30 columns):\n",
      "Draft_Yr     459 non-null int64\n",
      "Rnd          459 non-null object\n",
      "Pick         459 non-null object\n",
      "Tm           459 non-null object\n",
      "Player       459 non-null object\n",
      "Pos          459 non-null object\n",
      "Age          459 non-null object\n",
      "To           459 non-null object\n",
      "AP1          459 non-null object\n",
      "PB           459 non-null object\n",
      "St           459 non-null object\n",
      "CarAV        459 non-null object\n",
      "DrAV         459 non-null object\n",
      "G            459 non-null object\n",
      "Cmp          459 non-null object\n",
      "Att          459 non-null object\n",
      "Yds          459 non-null object\n",
      "TD           459 non-null object\n",
      "Int          459 non-null object\n",
      "Rush_Att     459 non-null object\n",
      "Rush_Yds     459 non-null object\n",
      "Rush_TD      459 non-null object\n",
      "Rec          459 non-null object\n",
      "Rec_Yds      459 non-null object\n",
      "Rec_TD       459 non-null object\n",
      "Solo         459 non-null object\n",
      "Def_Int      459 non-null object\n",
      "Sk           459 non-null object\n",
      "College      459 non-null object\n",
      "Player_ID    400 non-null object\n",
      "dtypes: int64(1), object(29)\n",
      "memory usage: 107.7+ KB\n"
     ]
    }
   ],
   "source": [
    "# Everythong is filled, except for Player_ID, which is fine for now\n",
    "draft_df.info()"
   ]
  },
  {
   "cell_type": "code",
   "execution_count": 161,
   "metadata": {
    "collapsed": true
   },
   "outputs": [],
   "source": [
    "draft_df.to_csv(\"data/clean_data/pfr_nfl_draft_data_CLEAN.csv\", index=False)"
   ]
  },
  {
   "cell_type": "markdown",
   "metadata": {},
   "source": [
    "# Exploring the NFL Draft"
   ]
  },
  {
   "cell_type": "code",
   "execution_count": 162,
   "metadata": {
    "collapsed": true
   },
   "outputs": [],
   "source": [
    "# get data for drafts from 1967 to 2010\n",
    "draft_df_2010 = draft_df.loc[draft_df.Draft_Yr <= 2010, :]"
   ]
  },
  {
   "cell_type": "code",
   "execution_count": 163,
   "metadata": {
    "collapsed": false
   },
   "outputs": [
    {
     "data": {
      "text/html": [
       "<div>\n",
       "<style scoped>\n",
       "    .dataframe tbody tr th:only-of-type {\n",
       "        vertical-align: middle;\n",
       "    }\n",
       "\n",
       "    .dataframe tbody tr th {\n",
       "        vertical-align: top;\n",
       "    }\n",
       "\n",
       "    .dataframe thead th {\n",
       "        text-align: right;\n",
       "    }\n",
       "</style>\n",
       "<table border=\"1\" class=\"dataframe\">\n",
       "  <thead>\n",
       "    <tr style=\"text-align: right;\">\n",
       "      <th></th>\n",
       "      <th>Draft_Yr</th>\n",
       "      <th>Rnd</th>\n",
       "      <th>Pick</th>\n",
       "      <th>Tm</th>\n",
       "      <th>Player</th>\n",
       "      <th>Pos</th>\n",
       "      <th>Age</th>\n",
       "      <th>To</th>\n",
       "      <th>AP1</th>\n",
       "      <th>PB</th>\n",
       "      <th>...</th>\n",
       "      <th>Rush_Yds</th>\n",
       "      <th>Rush_TD</th>\n",
       "      <th>Rec</th>\n",
       "      <th>Rec_Yds</th>\n",
       "      <th>Rec_TD</th>\n",
       "      <th>Solo</th>\n",
       "      <th>Def_Int</th>\n",
       "      <th>Sk</th>\n",
       "      <th>College</th>\n",
       "      <th>Player_ID</th>\n",
       "    </tr>\n",
       "  </thead>\n",
       "  <tbody>\n",
       "    <tr>\n",
       "      <th>454</th>\n",
       "      <td>1994</td>\n",
       "      <td>7</td>\n",
       "      <td>218</td>\n",
       "      <td>DEN</td>\n",
       "      <td>Tom Nalen</td>\n",
       "      <td>C</td>\n",
       "      <td>23</td>\n",
       "      <td>2007</td>\n",
       "      <td>2</td>\n",
       "      <td>5</td>\n",
       "      <td>...</td>\n",
       "      <td>0</td>\n",
       "      <td>0</td>\n",
       "      <td>1</td>\n",
       "      <td>-1</td>\n",
       "      <td>0</td>\n",
       "      <td></td>\n",
       "      <td></td>\n",
       "      <td></td>\n",
       "      <td>Boston Col.</td>\n",
       "      <td>NaleTo00</td>\n",
       "    </tr>\n",
       "    <tr>\n",
       "      <th>455</th>\n",
       "      <td>1994</td>\n",
       "      <td>7</td>\n",
       "      <td>219</td>\n",
       "      <td>KAN</td>\n",
       "      <td>Tracy Greene</td>\n",
       "      <td>TE</td>\n",
       "      <td>21</td>\n",
       "      <td>1995</td>\n",
       "      <td>0</td>\n",
       "      <td>0</td>\n",
       "      <td>...</td>\n",
       "      <td>0</td>\n",
       "      <td>0</td>\n",
       "      <td>6</td>\n",
       "      <td>69</td>\n",
       "      <td>1</td>\n",
       "      <td></td>\n",
       "      <td></td>\n",
       "      <td></td>\n",
       "      <td>Grambling St.</td>\n",
       "      <td>GreeTr01</td>\n",
       "    </tr>\n",
       "    <tr>\n",
       "      <th>456</th>\n",
       "      <td>1994</td>\n",
       "      <td>7</td>\n",
       "      <td>220</td>\n",
       "      <td>HOU</td>\n",
       "      <td>Lemanski Hall</td>\n",
       "      <td>LB</td>\n",
       "      <td>23</td>\n",
       "      <td>2002</td>\n",
       "      <td>0</td>\n",
       "      <td>0</td>\n",
       "      <td>...</td>\n",
       "      <td>0</td>\n",
       "      <td>0</td>\n",
       "      <td>0</td>\n",
       "      <td>0</td>\n",
       "      <td>0</td>\n",
       "      <td>90</td>\n",
       "      <td></td>\n",
       "      <td>4.0</td>\n",
       "      <td>Alabama</td>\n",
       "      <td>HallLe20</td>\n",
       "    </tr>\n",
       "    <tr>\n",
       "      <th>457</th>\n",
       "      <td>1994</td>\n",
       "      <td>7</td>\n",
       "      <td>221</td>\n",
       "      <td>BUF</td>\n",
       "      <td>Filmel Johnson</td>\n",
       "      <td>DB</td>\n",
       "      <td>23</td>\n",
       "      <td>1995</td>\n",
       "      <td>0</td>\n",
       "      <td>0</td>\n",
       "      <td>...</td>\n",
       "      <td>0</td>\n",
       "      <td>0</td>\n",
       "      <td>0</td>\n",
       "      <td>0</td>\n",
       "      <td>0</td>\n",
       "      <td>5</td>\n",
       "      <td></td>\n",
       "      <td></td>\n",
       "      <td>Illinois</td>\n",
       "      <td>JohnFi20</td>\n",
       "    </tr>\n",
       "    <tr>\n",
       "      <th>458</th>\n",
       "      <td>1994</td>\n",
       "      <td>7</td>\n",
       "      <td>222</td>\n",
       "      <td>NWE</td>\n",
       "      <td>Marty Moore</td>\n",
       "      <td>LB</td>\n",
       "      <td>23</td>\n",
       "      <td>2001</td>\n",
       "      <td>0</td>\n",
       "      <td>0</td>\n",
       "      <td>...</td>\n",
       "      <td>0</td>\n",
       "      <td>0</td>\n",
       "      <td>0</td>\n",
       "      <td>0</td>\n",
       "      <td>0</td>\n",
       "      <td>110</td>\n",
       "      <td>3</td>\n",
       "      <td>1.0</td>\n",
       "      <td>Kentucky</td>\n",
       "      <td>MoorMa23</td>\n",
       "    </tr>\n",
       "  </tbody>\n",
       "</table>\n",
       "<p>5 rows × 30 columns</p>\n",
       "</div>"
      ],
      "text/plain": [
       "     Draft_Yr Rnd Pick   Tm          Player Pos Age    To AP1 PB    ...     \\\n",
       "454      1994   7  218  DEN       Tom Nalen   C  23  2007   2  5    ...      \n",
       "455      1994   7  219  KAN    Tracy Greene  TE  21  1995   0  0    ...      \n",
       "456      1994   7  220  HOU   Lemanski Hall  LB  23  2002   0  0    ...      \n",
       "457      1994   7  221  BUF  Filmel Johnson  DB  23  1995   0  0    ...      \n",
       "458      1994   7  222  NWE     Marty Moore  LB  23  2001   0  0    ...      \n",
       "\n",
       "    Rush_Yds Rush_TD Rec Rec_Yds Rec_TD Solo Def_Int   Sk        College  \\\n",
       "454        0       0   1      -1      0                      Boston Col.   \n",
       "455        0       0   6      69      1                    Grambling St.   \n",
       "456        0       0   0       0      0   90          4.0        Alabama   \n",
       "457        0       0   0       0      0    5                    Illinois   \n",
       "458        0       0   0       0      0  110       3  1.0       Kentucky   \n",
       "\n",
       "    Player_ID  \n",
       "454  NaleTo00  \n",
       "455  GreeTr01  \n",
       "456  HallLe20  \n",
       "457  JohnFi20  \n",
       "458  MoorMa23  \n",
       "\n",
       "[5 rows x 30 columns]"
      ]
     },
     "execution_count": 163,
     "metadata": {},
     "output_type": "execute_result"
    }
   ],
   "source": [
    "draft_df_2010.tail() # we see that the last draft is 2010"
   ]
  },
  {
   "cell_type": "markdown",
   "metadata": {},
   "source": [
    "# The Career Approximate Value distribution"
   ]
  },
  {
   "cell_type": "code",
   "execution_count": 165,
   "metadata": {
    "collapsed": true
   },
   "outputs": [],
   "source": [
    "# set some plotting styles\n",
    "from matplotlib import rcParams\n",
    "\n",
    "# set the font scaling and the plot sizes\n",
    "sns.set(font_scale=1.65)\n",
    "rcParams[\"figure.figsize\"] = 12,9"
   ]
  },
  {
   "cell_type": "code",
   "execution_count": 166,
   "metadata": {
    "collapsed": false
   },
   "outputs": [
    {
     "ename": "TypeError",
     "evalue": "unsupported operand type(s) for /: 'str' and 'int'",
     "output_type": "error",
     "traceback": [
      "\u001b[1;31m---------------------------------------------------------------------------\u001b[0m",
      "\u001b[1;31mTypeError\u001b[0m                                 Traceback (most recent call last)",
      "\u001b[1;32m<ipython-input-166-ed2e967f2132>\u001b[0m in \u001b[0;36m<module>\u001b[1;34m()\u001b[0m\n\u001b[0;32m      1\u001b[0m \u001b[1;31m# Use distplot to view the distribution\u001b[0m\u001b[1;33m\u001b[0m\u001b[1;33m\u001b[0m\u001b[0m\n\u001b[1;32m----> 2\u001b[1;33m \u001b[0msns\u001b[0m\u001b[1;33m.\u001b[0m\u001b[0mdistplot\u001b[0m\u001b[1;33m(\u001b[0m\u001b[0mdraft_df_2010\u001b[0m\u001b[1;33m.\u001b[0m\u001b[0mCarAV\u001b[0m\u001b[1;33m)\u001b[0m\u001b[1;33m\u001b[0m\u001b[0m\n\u001b[0m\u001b[0;32m      3\u001b[0m \u001b[0mplt\u001b[0m\u001b[1;33m.\u001b[0m\u001b[0mtitle\u001b[0m\u001b[1;33m(\u001b[0m\u001b[1;34m\"Distribution of Career Approximate Value\"\u001b[0m\u001b[1;33m)\u001b[0m\u001b[1;33m\u001b[0m\u001b[0m\n\u001b[0;32m      4\u001b[0m \u001b[0mplt\u001b[0m\u001b[1;33m.\u001b[0m\u001b[0mxlim\u001b[0m\u001b[1;33m(\u001b[0m\u001b[1;33m-\u001b[0m\u001b[1;36m5\u001b[0m\u001b[1;33m,\u001b[0m \u001b[1;36m150\u001b[0m\u001b[1;33m)\u001b[0m\u001b[1;33m\u001b[0m\u001b[0m\n\u001b[0;32m      5\u001b[0m \u001b[0mplt\u001b[0m\u001b[1;33m.\u001b[0m\u001b[0mshow\u001b[0m\u001b[1;33m(\u001b[0m\u001b[1;33m)\u001b[0m\u001b[1;33m\u001b[0m\u001b[0m\n",
      "\u001b[1;32m~\\AppData\\Local\\Continuum\\anaconda3\\lib\\site-packages\\seaborn\\distributions.py\u001b[0m in \u001b[0;36mdistplot\u001b[1;34m(a, bins, hist, kde, rug, fit, hist_kws, kde_kws, rug_kws, fit_kws, color, vertical, norm_hist, axlabel, label, ax)\u001b[0m\n\u001b[0;32m    196\u001b[0m             \u001b[0mline\u001b[0m\u001b[1;33m,\u001b[0m \u001b[1;33m=\u001b[0m \u001b[0max\u001b[0m\u001b[1;33m.\u001b[0m\u001b[0mplot\u001b[0m\u001b[1;33m(\u001b[0m\u001b[1;36m0\u001b[0m\u001b[1;33m,\u001b[0m \u001b[0ma\u001b[0m\u001b[1;33m.\u001b[0m\u001b[0mmean\u001b[0m\u001b[1;33m(\u001b[0m\u001b[1;33m)\u001b[0m\u001b[1;33m)\u001b[0m\u001b[1;33m\u001b[0m\u001b[0m\n\u001b[0;32m    197\u001b[0m         \u001b[1;32melse\u001b[0m\u001b[1;33m:\u001b[0m\u001b[1;33m\u001b[0m\u001b[0m\n\u001b[1;32m--> 198\u001b[1;33m             \u001b[0mline\u001b[0m\u001b[1;33m,\u001b[0m \u001b[1;33m=\u001b[0m \u001b[0max\u001b[0m\u001b[1;33m.\u001b[0m\u001b[0mplot\u001b[0m\u001b[1;33m(\u001b[0m\u001b[0ma\u001b[0m\u001b[1;33m.\u001b[0m\u001b[0mmean\u001b[0m\u001b[1;33m(\u001b[0m\u001b[1;33m)\u001b[0m\u001b[1;33m,\u001b[0m \u001b[1;36m0\u001b[0m\u001b[1;33m)\u001b[0m\u001b[1;33m\u001b[0m\u001b[0m\n\u001b[0m\u001b[0;32m    199\u001b[0m         \u001b[0mcolor\u001b[0m \u001b[1;33m=\u001b[0m \u001b[0mline\u001b[0m\u001b[1;33m.\u001b[0m\u001b[0mget_color\u001b[0m\u001b[1;33m(\u001b[0m\u001b[1;33m)\u001b[0m\u001b[1;33m\u001b[0m\u001b[0m\n\u001b[0;32m    200\u001b[0m         \u001b[0mline\u001b[0m\u001b[1;33m.\u001b[0m\u001b[0mremove\u001b[0m\u001b[1;33m(\u001b[0m\u001b[1;33m)\u001b[0m\u001b[1;33m\u001b[0m\u001b[0m\n",
      "\u001b[1;32m~\\AppData\\Local\\Continuum\\anaconda3\\lib\\site-packages\\numpy\\core\\_methods.py\u001b[0m in \u001b[0;36m_mean\u001b[1;34m(a, axis, dtype, out, keepdims)\u001b[0m\n\u001b[0;32m     85\u001b[0m             \u001b[0mret\u001b[0m \u001b[1;33m=\u001b[0m \u001b[0mret\u001b[0m\u001b[1;33m.\u001b[0m\u001b[0mdtype\u001b[0m\u001b[1;33m.\u001b[0m\u001b[0mtype\u001b[0m\u001b[1;33m(\u001b[0m\u001b[0mret\u001b[0m \u001b[1;33m/\u001b[0m \u001b[0mrcount\u001b[0m\u001b[1;33m)\u001b[0m\u001b[1;33m\u001b[0m\u001b[0m\n\u001b[0;32m     86\u001b[0m     \u001b[1;32melse\u001b[0m\u001b[1;33m:\u001b[0m\u001b[1;33m\u001b[0m\u001b[0m\n\u001b[1;32m---> 87\u001b[1;33m         \u001b[0mret\u001b[0m \u001b[1;33m=\u001b[0m \u001b[0mret\u001b[0m \u001b[1;33m/\u001b[0m \u001b[0mrcount\u001b[0m\u001b[1;33m\u001b[0m\u001b[0m\n\u001b[0m\u001b[0;32m     88\u001b[0m \u001b[1;33m\u001b[0m\u001b[0m\n\u001b[0;32m     89\u001b[0m     \u001b[1;32mreturn\u001b[0m \u001b[0mret\u001b[0m\u001b[1;33m\u001b[0m\u001b[0m\n",
      "\u001b[1;31mTypeError\u001b[0m: unsupported operand type(s) for /: 'str' and 'int'"
     ]
    },
    {
     "data": {
      "image/png": "[encoded data removed]",
      "text/plain": [
       "<Figure size 864x648 with 1 Axes>"
      ]
     },
     "metadata": {},
     "output_type": "display_data"
    }
   ],
   "source": [
    "# Use distplot to view the distribution\n",
    "sns.distplot(draft_df_2010.CarAV)\n",
    "plt.title(\"Distribution of Career Approximate Value\")\n",
    "plt.xlim(-5, 150)\n",
    "plt.show()"
   ]
  },
  {
   "cell_type": "code",
   "execution_count": null,
   "metadata": {
    "collapsed": true
   },
   "outputs": [],
   "source": []
  }
 ],
 "metadata": {
  "kernelspec": {
   "display_name": "Python 3",
   "language": "python",
   "name": "python3"
  },
  "language_info": {
   "codemirror_mode": {
    "name": "ipython",
    "version": 3
   },
   "file_extension": ".py",
   "mimetype": "text/x-python",
   "name": "python",
   "nbconvert_exporter": "python",
   "pygments_lexer": "ipython3",
   "version": "3.6.0"
  }
 },
 "nbformat": 4,
 "nbformat_minor": 2
}
