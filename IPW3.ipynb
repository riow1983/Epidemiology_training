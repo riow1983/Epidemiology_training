{
 "cells": [
  {
   "cell_type": "code",
   "execution_count": 1,
   "metadata": {
    "collapsed": false
   },
   "outputs": [
    {
     "data": {
      "text/plain": [
       "' reference:\\n        https://qiita.com/usaito/items/09daccdd91bc98c21dff \\n'"
      ]
     },
     "execution_count": 1,
     "metadata": {},
     "output_type": "execute_result"
    }
   ],
   "source": [
    "\"\"\" reference:\n",
    "        https://qiita.com/usaito/items/09daccdd91bc98c21dff \n",
    "\"\"\""
   ]
  },
  {
   "cell_type": "code",
   "execution_count": 3,
   "metadata": {
    "collapsed": true
   },
   "outputs": [],
   "source": [
    "import pandas as pd\n",
    "import statsmodels.api as sm\n",
    "from sklearn.metrics import roc_curve, auc"
   ]
  },
  {
   "cell_type": "markdown",
   "metadata": {},
   "source": [
    "# Case Study 1\n",
    "### Right Heart Catheterization Dataset (RHC Dataset)"
   ]
  },
  {
   "cell_type": "code",
   "execution_count": 2,
   "metadata": {
    "collapsed": false
   },
   "outputs": [
    {
     "data": {
      "text/html": [
       "<div>\n",
       "<style scoped>\n",
       "    .dataframe tbody tr th:only-of-type {\n",
       "        vertical-align: middle;\n",
       "    }\n",
       "\n",
       "    .dataframe tbody tr th {\n",
       "        vertical-align: top;\n",
       "    }\n",
       "\n",
       "    .dataframe thead th {\n",
       "        text-align: right;\n",
       "    }\n",
       "</style>\n",
       "<table border=\"1\" class=\"dataframe\">\n",
       "  <thead>\n",
       "    <tr style=\"text-align: right;\">\n",
       "      <th></th>\n",
       "      <th>Unnamed: 0</th>\n",
       "      <th>cat1</th>\n",
       "      <th>cat2</th>\n",
       "      <th>ca</th>\n",
       "      <th>sadmdte</th>\n",
       "      <th>dschdte</th>\n",
       "      <th>dthdte</th>\n",
       "      <th>lstctdte</th>\n",
       "      <th>death</th>\n",
       "      <th>cardiohx</th>\n",
       "      <th>...</th>\n",
       "      <th>meta</th>\n",
       "      <th>hema</th>\n",
       "      <th>seps</th>\n",
       "      <th>trauma</th>\n",
       "      <th>ortho</th>\n",
       "      <th>adld3p</th>\n",
       "      <th>urin1</th>\n",
       "      <th>race</th>\n",
       "      <th>income</th>\n",
       "      <th>ptid</th>\n",
       "    </tr>\n",
       "  </thead>\n",
       "  <tbody>\n",
       "    <tr>\n",
       "      <th>0</th>\n",
       "      <td>1</td>\n",
       "      <td>COPD</td>\n",
       "      <td>NaN</td>\n",
       "      <td>Yes</td>\n",
       "      <td>11142</td>\n",
       "      <td>11151.0</td>\n",
       "      <td>NaN</td>\n",
       "      <td>11382</td>\n",
       "      <td>No</td>\n",
       "      <td>0</td>\n",
       "      <td>...</td>\n",
       "      <td>No</td>\n",
       "      <td>No</td>\n",
       "      <td>No</td>\n",
       "      <td>No</td>\n",
       "      <td>No</td>\n",
       "      <td>0.0</td>\n",
       "      <td>NaN</td>\n",
       "      <td>white</td>\n",
       "      <td>Under $11k</td>\n",
       "      <td>5</td>\n",
       "    </tr>\n",
       "    <tr>\n",
       "      <th>1</th>\n",
       "      <td>2</td>\n",
       "      <td>MOSF w/Sepsis</td>\n",
       "      <td>NaN</td>\n",
       "      <td>No</td>\n",
       "      <td>11799</td>\n",
       "      <td>11844.0</td>\n",
       "      <td>11844.0</td>\n",
       "      <td>11844</td>\n",
       "      <td>Yes</td>\n",
       "      <td>1</td>\n",
       "      <td>...</td>\n",
       "      <td>No</td>\n",
       "      <td>No</td>\n",
       "      <td>Yes</td>\n",
       "      <td>No</td>\n",
       "      <td>No</td>\n",
       "      <td>NaN</td>\n",
       "      <td>1437.0</td>\n",
       "      <td>white</td>\n",
       "      <td>Under $11k</td>\n",
       "      <td>7</td>\n",
       "    </tr>\n",
       "    <tr>\n",
       "      <th>2</th>\n",
       "      <td>3</td>\n",
       "      <td>MOSF w/Malignancy</td>\n",
       "      <td>MOSF w/Sepsis</td>\n",
       "      <td>Yes</td>\n",
       "      <td>12083</td>\n",
       "      <td>12143.0</td>\n",
       "      <td>NaN</td>\n",
       "      <td>12400</td>\n",
       "      <td>No</td>\n",
       "      <td>0</td>\n",
       "      <td>...</td>\n",
       "      <td>No</td>\n",
       "      <td>No</td>\n",
       "      <td>No</td>\n",
       "      <td>No</td>\n",
       "      <td>No</td>\n",
       "      <td>NaN</td>\n",
       "      <td>599.0</td>\n",
       "      <td>white</td>\n",
       "      <td>$25-$50k</td>\n",
       "      <td>9</td>\n",
       "    </tr>\n",
       "    <tr>\n",
       "      <th>3</th>\n",
       "      <td>4</td>\n",
       "      <td>ARF</td>\n",
       "      <td>NaN</td>\n",
       "      <td>No</td>\n",
       "      <td>11146</td>\n",
       "      <td>11183.0</td>\n",
       "      <td>11183.0</td>\n",
       "      <td>11182</td>\n",
       "      <td>Yes</td>\n",
       "      <td>0</td>\n",
       "      <td>...</td>\n",
       "      <td>No</td>\n",
       "      <td>No</td>\n",
       "      <td>No</td>\n",
       "      <td>No</td>\n",
       "      <td>No</td>\n",
       "      <td>NaN</td>\n",
       "      <td>NaN</td>\n",
       "      <td>white</td>\n",
       "      <td>$11-$25k</td>\n",
       "      <td>10</td>\n",
       "    </tr>\n",
       "    <tr>\n",
       "      <th>4</th>\n",
       "      <td>5</td>\n",
       "      <td>MOSF w/Sepsis</td>\n",
       "      <td>NaN</td>\n",
       "      <td>No</td>\n",
       "      <td>12035</td>\n",
       "      <td>12037.0</td>\n",
       "      <td>12037.0</td>\n",
       "      <td>12036</td>\n",
       "      <td>Yes</td>\n",
       "      <td>0</td>\n",
       "      <td>...</td>\n",
       "      <td>No</td>\n",
       "      <td>No</td>\n",
       "      <td>No</td>\n",
       "      <td>No</td>\n",
       "      <td>No</td>\n",
       "      <td>NaN</td>\n",
       "      <td>64.0</td>\n",
       "      <td>white</td>\n",
       "      <td>Under $11k</td>\n",
       "      <td>11</td>\n",
       "    </tr>\n",
       "  </tbody>\n",
       "</table>\n",
       "<p>5 rows × 63 columns</p>\n",
       "</div>"
      ],
      "text/plain": [
       "   Unnamed: 0               cat1           cat2   ca  sadmdte  dschdte  \\\n",
       "0           1               COPD            NaN  Yes    11142  11151.0   \n",
       "1           2      MOSF w/Sepsis            NaN   No    11799  11844.0   \n",
       "2           3  MOSF w/Malignancy  MOSF w/Sepsis  Yes    12083  12143.0   \n",
       "3           4                ARF            NaN   No    11146  11183.0   \n",
       "4           5      MOSF w/Sepsis            NaN   No    12035  12037.0   \n",
       "\n",
       "    dthdte  lstctdte death  cardiohx  ...   meta  hema  seps  trauma  ortho  \\\n",
       "0      NaN     11382    No         0  ...     No    No    No      No     No   \n",
       "1  11844.0     11844   Yes         1  ...     No    No   Yes      No     No   \n",
       "2      NaN     12400    No         0  ...     No    No    No      No     No   \n",
       "3  11183.0     11182   Yes         0  ...     No    No    No      No     No   \n",
       "4  12037.0     12036   Yes         0  ...     No    No    No      No     No   \n",
       "\n",
       "   adld3p   urin1   race      income  ptid  \n",
       "0     0.0     NaN  white  Under $11k     5  \n",
       "1     NaN  1437.0  white  Under $11k     7  \n",
       "2     NaN   599.0  white    $25-$50k     9  \n",
       "3     NaN     NaN  white    $11-$25k    10  \n",
       "4     NaN    64.0  white  Under $11k    11  \n",
       "\n",
       "[5 rows x 63 columns]"
      ]
     },
     "execution_count": 2,
     "metadata": {},
     "output_type": "execute_result"
    }
   ],
   "source": [
    "# read data\n",
    "data_df = pd.read_csv(\"http://biostat.mc.vanderbilt.edu/wiki/pub/Main/DataSets/rhc.csv\")\n",
    "data_df.head()"
   ]
  },
  {
   "cell_type": "code",
   "execution_count": 3,
   "metadata": {
    "collapsed": false
   },
   "outputs": [
    {
     "data": {
      "text/html": [
       "<div>\n",
       "<style scoped>\n",
       "    .dataframe tbody tr th:only-of-type {\n",
       "        vertical-align: middle;\n",
       "    }\n",
       "\n",
       "    .dataframe tbody tr th {\n",
       "        vertical-align: top;\n",
       "    }\n",
       "\n",
       "    .dataframe thead th {\n",
       "        text-align: right;\n",
       "    }\n",
       "</style>\n",
       "<table border=\"1\" class=\"dataframe\">\n",
       "  <thead>\n",
       "    <tr style=\"text-align: right;\">\n",
       "      <th>swang1</th>\n",
       "      <th>No RHC</th>\n",
       "      <th>RHC</th>\n",
       "    </tr>\n",
       "    <tr>\n",
       "      <th>death</th>\n",
       "      <th></th>\n",
       "      <th></th>\n",
       "    </tr>\n",
       "  </thead>\n",
       "  <tbody>\n",
       "    <tr>\n",
       "      <th>No</th>\n",
       "      <td>1315</td>\n",
       "      <td>698</td>\n",
       "    </tr>\n",
       "    <tr>\n",
       "      <th>Yes</th>\n",
       "      <td>2236</td>\n",
       "      <td>1486</td>\n",
       "    </tr>\n",
       "  </tbody>\n",
       "</table>\n",
       "</div>"
      ],
      "text/plain": [
       "swang1  No RHC   RHC\n",
       "death               \n",
       "No        1315   698\n",
       "Yes       2236  1486"
      ]
     },
     "execution_count": 3,
     "metadata": {},
     "output_type": "execute_result"
    }
   ],
   "source": [
    "# the cross-tabulation for the motality rate and RHC\n",
    "pd.crosstab(data_df.death, data_df.swang1)"
   ]
  },
  {
   "cell_type": "code",
   "execution_count": 4,
   "metadata": {
    "collapsed": false
   },
   "outputs": [
    {
     "data": {
      "text/plain": [
       "0.050721150622586864"
      ]
     },
     "execution_count": 4,
     "metadata": {},
     "output_type": "execute_result"
    }
   ],
   "source": [
    "# calculate the difference of the motality rate between RHC and No RHC\n",
    "rhc = 1486 / (698 + 1486)\n",
    "no = 2236 / (1315 + 2236)\n",
    "rhc - no"
   ]
  },
  {
   "cell_type": "markdown",
   "metadata": {},
   "source": [
    "## Estimate the propensity score using statsmodels.api.Logit"
   ]
  },
  {
   "cell_type": "code",
   "execution_count": 5,
   "metadata": {
    "collapsed": true
   },
   "outputs": [],
   "source": [
    "# select independent variables\n",
    "cols = [\"cat1\", \"sex\", \"race\", \"edu\", \"income\",\n",
    "        \"resp\", \"card\", \"neuro\", \"gastr\", \"renal\", \"meta\", \"hema\", \"seps\", \"trauma\", \"ortho\",\n",
    "        \"das2d3pc\", \"dnr1\", \"ca\", \"surv2md1\", \"aps1\", \"scoma1\", \"wtkilo1\", \"temp1\",\n",
    "        \"resp1\", \"hrt1\", \"pafi1\", \"paco21\", \"ph1\", \"wblc1\", \"hema1\", \"sod1\", \"pot1\", \"crea1\",\n",
    "        \"bili1\", \"alb1\", \"cardiohx\", \"chfhx\", \"dementhx\", \"psychhx\", \"chrpulhx\", \"renalhx\",\n",
    "        \"liverhx\", \"gibledhx\", \"immunhx\", \"transhx\", \"amihx\",\n",
    "        \"age\", \"meanbp1\"]\n",
    "\n",
    "# categorical independent variables\n",
    "categorical_columns = [\"cat1\", \"sex\", \"race\", \"edu\", \"income\", \"ca\", \"dnr1\",\n",
    "                       \"resp\", \"card\", \"neuro\", \"gastr\", \"renal\", \"meta\", \"hema\", \"seps\", \"trauma\", \"ortho\"]\n",
    "\n",
    "# make dummies for catecorical independent variables\n",
    "X = data_df[cols]\n",
    "dummy = pd.get_dummies(X[categorical_columns], drop_first=True)\n",
    "X = pd.concat([X, dummy], axis=1)\n",
    "X = X.drop(categorical_columns, axis=1)"
   ]
  },
  {
   "cell_type": "code",
   "execution_count": 6,
   "metadata": {
    "collapsed": true
   },
   "outputs": [],
   "source": [
    "# add an intercept\n",
    "X.loc[:, \"Intercept\"] = 1"
   ]
  },
  {
   "cell_type": "code",
   "execution_count": 7,
   "metadata": {
    "collapsed": true
   },
   "outputs": [],
   "source": [
    "# get a dummy for RHC or not\n",
    "z1 = pd.get_dummies(data_df[\"swang1\"])[\"RHC\"]"
   ]
  },
  {
   "cell_type": "code",
   "execution_count": 8,
   "metadata": {
    "collapsed": true
   },
   "outputs": [],
   "source": [
    "# the dependent variable\n",
    "y = pd.get_dummies(data_df[\"death\"])[\"Yes\"]"
   ]
  },
  {
   "cell_type": "code",
   "execution_count": 9,
   "metadata": {
    "collapsed": false
   },
   "outputs": [
    {
     "name": "stdout",
     "output_type": "stream",
     "text": [
      "Optimization terminated successfully.\n",
      "         Current function value: inf\n",
      "         Iterations 6\n"
     ]
    },
    {
     "name": "stderr",
     "output_type": "stream",
     "text": [
      "C:\\Users\\rhoriuchi\\AppData\\Local\\Continuum\\anaconda3\\lib\\site-packages\\statsmodels\\discrete\\discrete_model.py:1724: RuntimeWarning: divide by zero encountered in log\n",
      "  return np.sum(np.log(self.cdf(q*np.dot(X,params))))\n"
     ]
    }
   ],
   "source": [
    "glm = sm.Logit(z1, X)\n",
    "result = glm.fit()\n",
    "ps = result.predict(X)"
   ]
  },
  {
   "cell_type": "code",
   "execution_count": 11,
   "metadata": {
    "collapsed": false
   },
   "outputs": [
    {
     "data": {
      "text/plain": [
       "0.7963133740379587"
      ]
     },
     "execution_count": 11,
     "metadata": {},
     "output_type": "execute_result"
    }
   ],
   "source": [
    "# Calculate AUC in terms of C-statistic\n",
    "fpr, tpr, thresholds = roc_curve(z1, ps)\n",
    "auc(fpr, tpr) # C-statistic is to be desired greater than 0.80"
   ]
  },
  {
   "cell_type": "markdown",
   "metadata": {
    "collapsed": true
   },
   "source": [
    "## Estimate ATE by applying IPW"
   ]
  },
  {
   "cell_type": "code",
   "execution_count": 12,
   "metadata": {
    "collapsed": false
   },
   "outputs": [
    {
     "name": "stdout",
     "output_type": "stream",
     "text": [
      "0.05907512789883529\n"
     ]
    }
   ],
   "source": [
    "# Average Treatment Effect\n",
    "ipwe1 = sum((z1*y)/ps) / sum(z1/ps)\n",
    "ipwe0 = sum((1-z1)*y/(1-ps)) / sum((1-z1)/(1-ps))\n",
    "ATE = ipwe1 - ipwe0\n",
    "print(ATE)"
   ]
  },
  {
   "cell_type": "code",
   "execution_count": null,
   "metadata": {
    "collapsed": true
   },
   "outputs": [],
   "source": [
    "\"\"\"\n",
    "Remember that\n",
    "    # calculate the difference of the motality rate between RHC and No RHC\n",
    "    rhc = 1486 / (698 + 1486)\n",
    "    no = 2236 / (1315 + 2236)\n",
    "    rhc - no\n",
    "returns 0.050721150622586864, the estimated ATE grows by 0.009.\n",
    "\"\"\""
   ]
  },
  {
   "cell_type": "markdown",
   "metadata": {},
   "source": [
    "# Case Study 2\n",
    "### the utilization rate of the smart phone app"
   ]
  },
  {
   "cell_type": "code",
   "execution_count": 4,
   "metadata": {
    "collapsed": false
   },
   "outputs": [
    {
     "data": {
      "text/html": [
       "<div>\n",
       "<table border=\"1\" class=\"dataframe\">\n",
       "  <thead>\n",
       "    <tr style=\"text-align: right;\">\n",
       "      <th></th>\n",
       "      <th>cm_dummy</th>\n",
       "      <th>gamedummy</th>\n",
       "      <th>area_kanto</th>\n",
       "      <th>area_keihan</th>\n",
       "      <th>area_tokai</th>\n",
       "      <th>area_keihanshin</th>\n",
       "      <th>age</th>\n",
       "      <th>sex</th>\n",
       "      <th>marry_dummy</th>\n",
       "      <th>job_dummy1</th>\n",
       "      <th>...</th>\n",
       "      <th>T</th>\n",
       "      <th>F1</th>\n",
       "      <th>F2</th>\n",
       "      <th>F3</th>\n",
       "      <th>M1</th>\n",
       "      <th>M2</th>\n",
       "      <th>M3</th>\n",
       "      <th>TVwatch_day</th>\n",
       "      <th>gamesecond</th>\n",
       "      <th>gamecount</th>\n",
       "    </tr>\n",
       "  </thead>\n",
       "  <tbody>\n",
       "    <tr>\n",
       "      <th>0</th>\n",
       "      <td>0</td>\n",
       "      <td>0</td>\n",
       "      <td>0</td>\n",
       "      <td>0</td>\n",
       "      <td>0</td>\n",
       "      <td>1</td>\n",
       "      <td>44.5</td>\n",
       "      <td>1</td>\n",
       "      <td>1</td>\n",
       "      <td>1</td>\n",
       "      <td>...</td>\n",
       "      <td>0</td>\n",
       "      <td>0</td>\n",
       "      <td>0</td>\n",
       "      <td>0</td>\n",
       "      <td>0</td>\n",
       "      <td>1</td>\n",
       "      <td>0</td>\n",
       "      <td>33.427600</td>\n",
       "      <td>0</td>\n",
       "      <td>0</td>\n",
       "    </tr>\n",
       "    <tr>\n",
       "      <th>1</th>\n",
       "      <td>0</td>\n",
       "      <td>0</td>\n",
       "      <td>0</td>\n",
       "      <td>1</td>\n",
       "      <td>0</td>\n",
       "      <td>0</td>\n",
       "      <td>34.5</td>\n",
       "      <td>1</td>\n",
       "      <td>1</td>\n",
       "      <td>1</td>\n",
       "      <td>...</td>\n",
       "      <td>0</td>\n",
       "      <td>0</td>\n",
       "      <td>0</td>\n",
       "      <td>0</td>\n",
       "      <td>0</td>\n",
       "      <td>1</td>\n",
       "      <td>0</td>\n",
       "      <td>31.542862</td>\n",
       "      <td>0</td>\n",
       "      <td>0</td>\n",
       "    </tr>\n",
       "    <tr>\n",
       "      <th>2</th>\n",
       "      <td>0</td>\n",
       "      <td>0</td>\n",
       "      <td>0</td>\n",
       "      <td>1</td>\n",
       "      <td>0</td>\n",
       "      <td>0</td>\n",
       "      <td>24.5</td>\n",
       "      <td>1</td>\n",
       "      <td>0</td>\n",
       "      <td>0</td>\n",
       "      <td>...</td>\n",
       "      <td>0</td>\n",
       "      <td>0</td>\n",
       "      <td>0</td>\n",
       "      <td>0</td>\n",
       "      <td>1</td>\n",
       "      <td>0</td>\n",
       "      <td>0</td>\n",
       "      <td>37.825805</td>\n",
       "      <td>0</td>\n",
       "      <td>0</td>\n",
       "    </tr>\n",
       "    <tr>\n",
       "      <th>3</th>\n",
       "      <td>0</td>\n",
       "      <td>0</td>\n",
       "      <td>0</td>\n",
       "      <td>1</td>\n",
       "      <td>0</td>\n",
       "      <td>0</td>\n",
       "      <td>44.5</td>\n",
       "      <td>1</td>\n",
       "      <td>1</td>\n",
       "      <td>1</td>\n",
       "      <td>...</td>\n",
       "      <td>0</td>\n",
       "      <td>0</td>\n",
       "      <td>0</td>\n",
       "      <td>0</td>\n",
       "      <td>0</td>\n",
       "      <td>1</td>\n",
       "      <td>0</td>\n",
       "      <td>36.345911</td>\n",
       "      <td>0</td>\n",
       "      <td>0</td>\n",
       "    </tr>\n",
       "    <tr>\n",
       "      <th>4</th>\n",
       "      <td>0</td>\n",
       "      <td>0</td>\n",
       "      <td>0</td>\n",
       "      <td>1</td>\n",
       "      <td>0</td>\n",
       "      <td>0</td>\n",
       "      <td>34.5</td>\n",
       "      <td>1</td>\n",
       "      <td>1</td>\n",
       "      <td>1</td>\n",
       "      <td>...</td>\n",
       "      <td>0</td>\n",
       "      <td>0</td>\n",
       "      <td>0</td>\n",
       "      <td>0</td>\n",
       "      <td>1</td>\n",
       "      <td>0</td>\n",
       "      <td>0</td>\n",
       "      <td>49.344942</td>\n",
       "      <td>0</td>\n",
       "      <td>0</td>\n",
       "    </tr>\n",
       "  </tbody>\n",
       "</table>\n",
       "<p>5 rows × 35 columns</p>\n",
       "</div>"
      ],
      "text/plain": [
       "   cm_dummy  gamedummy  area_kanto  area_keihan  area_tokai  area_keihanshin  \\\n",
       "0         0          0           0            0           0                1   \n",
       "1         0          0           0            1           0                0   \n",
       "2         0          0           0            1           0                0   \n",
       "3         0          0           0            1           0                0   \n",
       "4         0          0           0            1           0                0   \n",
       "\n",
       "    age  sex  marry_dummy  job_dummy1    ...      T  F1  F2  F3  M1  M2  M3  \\\n",
       "0  44.5    1            1           1    ...      0   0   0   0   0   1   0   \n",
       "1  34.5    1            1           1    ...      0   0   0   0   0   1   0   \n",
       "2  24.5    1            0           0    ...      0   0   0   0   1   0   0   \n",
       "3  44.5    1            1           1    ...      0   0   0   0   0   1   0   \n",
       "4  34.5    1            1           1    ...      0   0   0   0   1   0   0   \n",
       "\n",
       "   TVwatch_day  gamesecond  gamecount  \n",
       "0    33.427600           0          0  \n",
       "1    31.542862           0          0  \n",
       "2    37.825805           0          0  \n",
       "3    36.345911           0          0  \n",
       "4    49.344942           0          0  \n",
       "\n",
       "[5 rows x 35 columns]"
      ]
     },
     "execution_count": 4,
     "metadata": {},
     "output_type": "execute_result"
    }
   ],
   "source": [
    "# read data\n",
    "data_df = pd.read_csv('https://github.com/iwanami-datascience/vol3/raw/master/kato%26hoshino/q_data_x.csv')\n",
    "data_df.head()"
   ]
  },
  {
   "cell_type": "code",
   "execution_count": 5,
   "metadata": {
    "collapsed": false
   },
   "outputs": [
    {
     "data": {
      "text/html": [
       "<div>\n",
       "<table border=\"1\" class=\"dataframe\">\n",
       "  <thead>\n",
       "    <tr style=\"text-align: right;\">\n",
       "      <th>cm_dummy</th>\n",
       "      <th>0</th>\n",
       "      <th>1</th>\n",
       "    </tr>\n",
       "    <tr>\n",
       "      <th>gamedummy</th>\n",
       "      <th></th>\n",
       "      <th></th>\n",
       "    </tr>\n",
       "  </thead>\n",
       "  <tbody>\n",
       "    <tr>\n",
       "      <th>0</th>\n",
       "      <td>5428</td>\n",
       "      <td>3832</td>\n",
       "    </tr>\n",
       "    <tr>\n",
       "      <th>1</th>\n",
       "      <td>428</td>\n",
       "      <td>312</td>\n",
       "    </tr>\n",
       "  </tbody>\n",
       "</table>\n",
       "</div>"
      ],
      "text/plain": [
       "cm_dummy      0     1\n",
       "gamedummy            \n",
       "0          5428  3832\n",
       "1           428   312"
      ]
     },
     "execution_count": 5,
     "metadata": {},
     "output_type": "execute_result"
    }
   ],
   "source": [
    "# cross tabulation\n",
    "pd.crosstab(data_df[\"gamedummy\"], data_df[\"cm_dummy\"])"
   ]
  },
  {
   "cell_type": "code",
   "execution_count": 6,
   "metadata": {
    "collapsed": false
   },
   "outputs": [
    {
     "data": {
      "text/plain": [
       "0.002202143595586223"
      ]
     },
     "execution_count": 6,
     "metadata": {},
     "output_type": "execute_result"
    }
   ],
   "source": [
    "# the difference of the utilization rate between having watched CM or not\n",
    "312/(3832+312) - 428/(5428+428)"
   ]
  },
  {
   "cell_type": "code",
   "execution_count": 7,
   "metadata": {
    "collapsed": false
   },
   "outputs": [
    {
     "data": {
      "text/plain": [
       "-1.4845493913116865"
      ]
     },
     "execution_count": 7,
     "metadata": {},
     "output_type": "execute_result"
    }
   ],
   "source": [
    "# the difference of the utilization count between having watched CM or not\n",
    "cm1 = data_df[data_df.cm_dummy == 1].gamecount.mean()\n",
    "cm0 = data_df[data_df.cm_dummy == 0].gamecount.mean()\n",
    "cm1 - cm0"
   ]
  },
  {
   "cell_type": "code",
   "execution_count": 8,
   "metadata": {
    "collapsed": false
   },
   "outputs": [
    {
     "data": {
      "text/plain": [
       "-629.6405765396544"
      ]
     },
     "execution_count": 8,
     "metadata": {},
     "output_type": "execute_result"
    }
   ],
   "source": [
    "# the difference of the utilization time between having watched CM or not\n",
    "cm1 = data_df[data_df.cm_dummy == 1].gamesecond.mean()\n",
    "cm0 = data_df[data_df.cm_dummy == 0].gamesecond.mean()\n",
    "cm1 - cm0"
   ]
  },
  {
   "cell_type": "markdown",
   "metadata": {},
   "source": [
    "## Estimate the propensity score using statsmodels.api.Logit"
   ]
  },
  {
   "cell_type": "code",
   "execution_count": 9,
   "metadata": {
    "collapsed": true
   },
   "outputs": [],
   "source": [
    "# define independent variables\n",
    "cols = [\"age\", \"sex\", \"TVwatch_day\", \"marry_dummy\", \"child_dummy\", \"inc\", \"pmoney\",\n",
    "        \"area_kanto\", \"area_tokai\", \"area_keihanshin\",\n",
    "        \"job_dummy1\", \"job_dummy2\", \"job_dummy3\", \"job_dummy4\", \"job_dummy5\", \"job_dummy6\",\n",
    "        \"fam_str_dummy1\", \"fam_str_dummy2\", \"fam_str_dummy3\", \"fam_str_dummy4\"]\n",
    "\n",
    "X = data_df[cols].copy()"
   ]
  },
  {
   "cell_type": "code",
   "execution_count": 10,
   "metadata": {
    "collapsed": true
   },
   "outputs": [],
   "source": [
    "# add the intercept\n",
    "X.loc[:, \"Intercept\"] = 1"
   ]
  },
  {
   "cell_type": "code",
   "execution_count": 11,
   "metadata": {
    "collapsed": true
   },
   "outputs": [],
   "source": [
    "# get the dummy of having watched CM or not\n",
    "z1 = data_df.cm_dummy"
   ]
  },
  {
   "cell_type": "code",
   "execution_count": 12,
   "metadata": {
    "collapsed": true
   },
   "outputs": [],
   "source": [
    "# get dependent variables (1: the utilization rate, 2: _ counts, 3: _ time)\n",
    "y1 = data_df.gamedummy\n",
    "y2 = data_df.gamecount\n",
    "y3 = data_df.gamesecond"
   ]
  },
  {
   "cell_type": "code",
   "execution_count": 13,
   "metadata": {
    "collapsed": false,
    "scrolled": true
   },
   "outputs": [
    {
     "name": "stdout",
     "output_type": "stream",
     "text": [
      "Optimization terminated successfully.\n",
      "         Current function value: 0.542152\n",
      "         Iterations 6\n",
      "0       0.046217\n",
      "1       0.255983\n",
      "2       0.177427\n",
      "3       0.227593\n",
      "4       0.242373\n",
      "5       0.158504\n",
      "6       0.048143\n",
      "7       0.124441\n",
      "8       0.228190\n",
      "9       0.259171\n",
      "10      0.243793\n",
      "11      0.325195\n",
      "12      0.058288\n",
      "13      0.287807\n",
      "14      0.058983\n",
      "15      0.029108\n",
      "16      0.227459\n",
      "17      0.237748\n",
      "18      0.303732\n",
      "19      0.039849\n",
      "20      0.268014\n",
      "21      0.161931\n",
      "22      0.305485\n",
      "23      0.301188\n",
      "24      0.429793\n",
      "25      0.368691\n",
      "26      0.268220\n",
      "27      0.457681\n",
      "28      0.268657\n",
      "29      0.433015\n",
      "          ...   \n",
      "9970    0.410883\n",
      "9971    0.410965\n",
      "9972    0.410936\n",
      "9973    0.410955\n",
      "9974    0.410962\n",
      "9975    0.410923\n",
      "9976    0.410920\n",
      "9977    0.248503\n",
      "9978    0.248498\n",
      "9979    0.248479\n",
      "9980    0.248485\n",
      "9981    0.248488\n",
      "9982    0.248487\n",
      "9983    0.248477\n",
      "9984    0.273182\n",
      "9985    0.273148\n",
      "9986    0.273143\n",
      "9987    0.273199\n",
      "9988    0.273158\n",
      "9989    0.273165\n",
      "9990    0.273139\n",
      "9991    0.273181\n",
      "9992    0.203947\n",
      "9993    0.204018\n",
      "9994    0.203989\n",
      "9995    0.203962\n",
      "9996    0.203994\n",
      "9997    0.203984\n",
      "9998    0.203982\n",
      "9999    0.203972\n",
      "dtype: float64\n"
     ]
    }
   ],
   "source": [
    "# estimate the propensity score by using statsmodels.api.Logit\n",
    "glm = sm.Logit(z1, X)\n",
    "result = glm.fit()\n",
    "ps = result.predict(X)\n",
    "print(ps)"
   ]
  },
  {
   "cell_type": "code",
   "execution_count": 14,
   "metadata": {
    "collapsed": false
   },
   "outputs": [
    {
     "data": {
      "text/plain": [
       "0.7917012811992321"
      ]
     },
     "execution_count": 14,
     "metadata": {},
     "output_type": "execute_result"
    }
   ],
   "source": [
    "# calculate AUC in terms of C-statistic\n",
    "fpr, tpr, thresholds = roc_curve(z1, ps)\n",
    "auc(fpr, tpr)"
   ]
  },
  {
   "cell_type": "markdown",
   "metadata": {},
   "source": [
    "## Estimate ATE by applying IPW"
   ]
  },
  {
   "cell_type": "code",
   "execution_count": 15,
   "metadata": {
    "collapsed": true
   },
   "outputs": [],
   "source": [
    "def ate_calc(y, z, e):\n",
    "    \"\"\" \n",
    "    arguments:\n",
    "        y: the dependent variable\n",
    "        z: the treatment allocation variable\n",
    "        e: the estimated propensity score\n",
    "    return:\n",
    "        ate: the estimated average treatment effect\n",
    "    \"\"\"\n",
    "    ipwe1 = sum((z*y)/e) / sum(z/e) # Treated\n",
    "    ipwe0 = sum(((1-z)*y)/(1-e)) / sum((1-z)/(1-e)) # Control\n",
    "    ate = ipwe1 - ipwe0\n",
    "    return ate"
   ]
  },
  {
   "cell_type": "code",
   "execution_count": 17,
   "metadata": {
    "collapsed": false
   },
   "outputs": [
    {
     "name": "stdout",
     "output_type": "stream",
     "text": [
      "the ATE w.r.t. the utilization rate:  0.03231177330512078\n",
      "the ATE w.r.t. the utilization counts:  5.349029566474563\n",
      "the ATE w.r.t. the utilization time:  1513.6996907825041\n"
     ]
    }
   ],
   "source": [
    "# 1: Estimate the ATE w.r.t. the utilization rate\n",
    "ate1 = ate_calc(y1, z1, ps)\n",
    "print(\"the ATE w.r.t. the utilization rate: \", ate1)\n",
    "\n",
    "# 2: Estimate the ATE w.r.t. the utilization counts\n",
    "ate2 = ate_calc(y2, z1, ps)\n",
    "print(\"the ATE w.r.t. the utilization counts: \", ate2)\n",
    "\n",
    "# 3: Estimate the ATE w.r.t. the utilization time\n",
    "ate3 = ate_calc(y3, z1, ps)\n",
    "print(\"the ATE w.r.t. the utilization time: \", ate3)"
   ]
  }
 ],
 "metadata": {
  "kernelspec": {
   "display_name": "Python 3",
   "language": "python",
   "name": "python3"
  },
  "language_info": {
   "codemirror_mode": {
    "name": "ipython",
    "version": 3
   },
   "file_extension": ".py",
   "mimetype": "text/x-python",
   "name": "python",
   "nbconvert_exporter": "python",
   "pygments_lexer": "ipython3",
   "version": "3.6.0"
  }
 },
 "nbformat": 4,
 "nbformat_minor": 2
}
